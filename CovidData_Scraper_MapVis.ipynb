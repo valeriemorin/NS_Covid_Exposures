{
 "cells": [
  {
   "cell_type": "markdown",
   "metadata": {},
   "source": [
    "# Assignment 3\n",
    "# Covid-19 Exposures in Nova Scotia\n",
    "# GISY5003: Spatial Database Management\n",
    "# Instructor: Jim Verran\n",
    "# Author: Juan C. Reyes\n",
    "# Date: December 13, 2021\n"
   ]
  },
  {
   "cell_type": "markdown",
   "metadata": {},
   "source": [
    "# Part 1- Data Scraping, Data Cleaning, Visualization"
   ]
  },
  {
   "cell_type": "markdown",
   "metadata": {},
   "source": [
    "Begin by checking your CWD depending on where you opened this file.\n",
    "This document will generate a few output files containing data."
   ]
  },
  {
   "cell_type": "code",
   "execution_count": 20,
   "metadata": {},
   "outputs": [
    {
     "data": {
      "text/plain": [
       "'C:\\\\Users\\\\jreye\\\\OneDrive - Nova Scotia Community College\\\\ClassMaterial\\\\GISY5003SpatialDatabaseMgmt\\\\Labs\\\\Assignment3\\\\Submission\\\\ArcGISPRO_CovidMap'"
      ]
     },
     "execution_count": 20,
     "metadata": {},
     "output_type": "execute_result"
    }
   ],
   "source": [
    "import os\n",
    "cwd = os.getcwd()\n",
    "cwd"
   ]
  },
  {
   "cell_type": "markdown",
   "metadata": {},
   "source": [
    "# Nova Scotia Covid-19 Exposure Sites and Healthcare Facilities\n",
    "\n",
    "# 0 -  Import libraries to work with.\n",
    "\n",
    "#### Pandas for data frames and data cleaning.\n",
    "#### GIS for mapping visualization\n",
    "#### Geocode for obtaining addresses from NS. Health\n",
    "#### Arcpy for creating buffer polygons and plotting on the main map."
   ]
  },
  {
   "cell_type": "code",
   "execution_count": 6,
   "metadata": {},
   "outputs": [],
   "source": [
    "#Import Libraries\n",
    "import pandas as pd\n",
    "from arcgis.gis import GIS\n",
    "from arcgis.geocoding import geocode\n",
    "import arcpy"
   ]
  },
  {
   "cell_type": "markdown",
   "metadata": {},
   "source": [
    "# ArcGIS Credentials\n",
    "\n",
    "## This is necessary for initializing the GIS object as well as for utilizing the geocode() function to allow us to obtain exposure site cooridnates."
   ]
  },
  {
   "cell_type": "code",
   "execution_count": 17,
   "metadata": {},
   "outputs": [
    {
     "name": "stdout",
     "output_type": "stream",
     "text": [
      "Please enter your password: \n"
     ]
    },
    {
     "ename": "Exception",
     "evalue": "Unable to generate token.\n'password' must be specified.\n(Error Code: 400)",
     "output_type": "error",
     "traceback": [
      "\u001b[0;31m---------------------------------------------------------------------------\u001b[0m\n\u001b[0;31mException\u001b[0m                                 Traceback (most recent call last)",
      "In  \u001b[0;34m[17]\u001b[0m:\nLine \u001b[0;34m3\u001b[0m:     Halifax_GIS_Map = GIS(username = \u001b[33m\"\u001b[39;49;00m\u001b[33mJuanCReyes1\u001b[39;49;00m\u001b[33m\"\u001b[39;49;00m, password=password) \n",
      "File \u001b[0;34mC:\\Users\\jreye\\AppData\\Local\\Programs\\ArcGIS\\Pro\\bin\\Python\\envs\\arcgispro-py3\\lib\\site-packages\\arcgis\\gis\\__init__.py\u001b[0m, in \u001b[0;32m__init__\u001b[0m:\nLine \u001b[0;34m483\u001b[0m:   \u001b[34mraise\u001b[39;49;00m e\n",
      "File \u001b[0;34mC:\\Users\\jreye\\AppData\\Local\\Programs\\ArcGIS\\Pro\\bin\\Python\\envs\\arcgispro-py3\\lib\\site-packages\\arcgis\\gis\\__init__.py\u001b[0m, in \u001b[0;32m__init__\u001b[0m:\nLine \u001b[0;34m444\u001b[0m:   proxy=kwargs.get(\u001b[33m\"\u001b[39;49;00m\u001b[33mproxy\u001b[39;49;00m\u001b[33m\"\u001b[39;49;00m, \u001b[34mNone\u001b[39;49;00m),\n",
      "File \u001b[0;34mC:\\Users\\jreye\\AppData\\Local\\Programs\\ArcGIS\\Pro\\bin\\Python\\envs\\arcgispro-py3\\lib\\site-packages\\arcgis\\gis\\_impl\\_portalpy.py\u001b[0m, in \u001b[0;32m__init__\u001b[0m:\nLine \u001b[0;34m205\u001b[0m:   \u001b[36mself\u001b[39;49;00m.get_properties(\u001b[34mTrue\u001b[39;49;00m)\n",
      "File \u001b[0;34mC:\\Users\\jreye\\AppData\\Local\\Programs\\ArcGIS\\Pro\\bin\\Python\\envs\\arcgispro-py3\\lib\\site-packages\\arcgis\\gis\\_impl\\_portalpy.py\u001b[0m, in \u001b[0;32mget_properties\u001b[0m:\nLine \u001b[0;34m1227\u001b[0m:  \u001b[34mraise\u001b[39;49;00m e\n",
      "File \u001b[0;34mC:\\Users\\jreye\\AppData\\Local\\Programs\\ArcGIS\\Pro\\bin\\Python\\envs\\arcgispro-py3\\lib\\site-packages\\arcgis\\gis\\_impl\\_portalpy.py\u001b[0m, in \u001b[0;32mget_properties\u001b[0m:\nLine \u001b[0;34m1207\u001b[0m:  resp = \u001b[36mself\u001b[39;49;00m.con.post(path, \u001b[36mself\u001b[39;49;00m._postdata(), ssl=\u001b[34mTrue\u001b[39;49;00m)\n",
      "File \u001b[0;34mC:\\Users\\jreye\\AppData\\Local\\Programs\\ArcGIS\\Pro\\bin\\Python\\envs\\arcgispro-py3\\lib\\site-packages\\arcgis\\gis\\_impl\\_con\\_connection.py\u001b[0m, in \u001b[0;32mpost\u001b[0m:\nLine \u001b[0;34m966\u001b[0m:   \u001b[34melif\u001b[39;49;00m token_as_header == \u001b[34mFalse\u001b[39;49;00m \u001b[35mand\u001b[39;49;00m \u001b[36mself\u001b[39;49;00m.token \u001b[35mis\u001b[39;49;00m \u001b[35mnot\u001b[39;49;00m \u001b[34mNone\u001b[39;49;00m:  \u001b[37m# as ?token=\u001b[39;49;00m\n",
      "File \u001b[0;34mC:\\Users\\jreye\\AppData\\Local\\Programs\\ArcGIS\\Pro\\bin\\Python\\envs\\arcgispro-py3\\lib\\site-packages\\arcgis\\gis\\_impl\\_con\\_connection.py\u001b[0m, in \u001b[0;32mtoken\u001b[0m:\nLine \u001b[0;34m1447\u001b[0m:  \u001b[36mself\u001b[39;49;00m._token = \u001b[36mself\u001b[39;49;00m._enterprise_token()\n",
      "File \u001b[0;34mC:\\Users\\jreye\\AppData\\Local\\Programs\\ArcGIS\\Pro\\bin\\Python\\envs\\arcgispro-py3\\lib\\site-packages\\arcgis\\gis\\_impl\\_con\\_connection.py\u001b[0m, in \u001b[0;32m_enterprise_token\u001b[0m:\nLine \u001b[0;34m1591\u001b[0m:  res = \u001b[36mself\u001b[39;49;00m.post(path=\u001b[36mself\u001b[39;49;00m._token_url, params=postdata, add_token=\u001b[34mFalse\u001b[39;49;00m)\n",
      "File \u001b[0;34mC:\\Users\\jreye\\AppData\\Local\\Programs\\ArcGIS\\Pro\\bin\\Python\\envs\\arcgispro-py3\\lib\\site-packages\\arcgis\\gis\\_impl\\_con\\_connection.py\u001b[0m, in \u001b[0;32mpost\u001b[0m:\nLine \u001b[0;34m1079\u001b[0m:  force_bytes=kwargs.pop(\u001b[33m\"\u001b[39;49;00m\u001b[33mforce_bytes\u001b[39;49;00m\u001b[33m\"\u001b[39;49;00m, \u001b[34mFalse\u001b[39;49;00m),\n",
      "File \u001b[0;34mC:\\Users\\jreye\\AppData\\Local\\Programs\\ArcGIS\\Pro\\bin\\Python\\envs\\arcgispro-py3\\lib\\site-packages\\arcgis\\gis\\_impl\\_con\\_connection.py\u001b[0m, in \u001b[0;32m_handle_response\u001b[0m:\nLine \u001b[0;34m625\u001b[0m:   \u001b[36mself\u001b[39;49;00m._handle_json_error(data[\u001b[33m\"\u001b[39;49;00m\u001b[33merror\u001b[39;49;00m\u001b[33m\"\u001b[39;49;00m], errorcode)\n",
      "File \u001b[0;34mC:\\Users\\jreye\\AppData\\Local\\Programs\\ArcGIS\\Pro\\bin\\Python\\envs\\arcgispro-py3\\lib\\site-packages\\arcgis\\gis\\_impl\\_con\\_connection.py\u001b[0m, in \u001b[0;32m_handle_json_error\u001b[0m:\nLine \u001b[0;34m648\u001b[0m:   \u001b[34mraise\u001b[39;49;00m \u001b[36mException\u001b[39;49;00m(errormessage)\n",
      "\u001b[0;31mException\u001b[0m: Unable to generate token.\n'password' must be specified.\n(Error Code: 400)\n\u001b[0;31m---------------------------------------------------------------------------\u001b[0m"
     ]
    }
   ],
   "source": [
    "password = input(\"Please enter your password: \")\n",
    "# Create GIS Map Object. Please enter your own GIS Login Credentials.\n",
    "Halifax_GIS_Map = GIS(username = \"JuanCReyes1\", password=password) "
   ]
  },
  {
   "cell_type": "markdown",
   "metadata": {},
   "source": [
    "# Initialize GIS object"
   ]
  },
  {
   "cell_type": "code",
   "execution_count": 8,
   "metadata": {
    "scrolled": true
   },
   "outputs": [
    {
     "data": {
      "application/vnd.jupyter.widget-view+json": {
       "model_id": "3536fe93384141179d9eee00ff52d745",
       "version_major": 2,
       "version_minor": 0
      },
      "text/plain": [
       "MapView(layout=Layout(height='400px', width='100%'))"
      ]
     },
     "metadata": {},
     "output_type": "display_data"
    },
    {
     "data": {
      "text/html": [
       "<div class=\"map-static-img-preview-decd8ef9-172b-47d7-b79c-75953ffdfabb\"><img src=\"\"></img></div>"
      ],
      "text/plain": [
       "<display.HTML object>"
      ]
     },
     "metadata": {},
     "output_type": "display_data"
    },
    {
     "data": {
      "text/html": [
       "<div class=\"map-html-embed-preview-decd8ef9-172b-47d7-b79c-75953ffdfabb\"></div>"
      ],
      "text/plain": [
       "<display.HTML object>"
      ]
     },
     "metadata": {},
     "output_type": "display_data"
    }
   ],
   "source": [
    "#Create a dictionary of objects to choose where to center the map orginally around.\n",
    "places_dict= {\"Dartmouth\":\"Dartmouth,Nova Scotia,Canada\",\n",
    "              \"Halifax\": \"Halifax, Nova Scotia, Canada\",\n",
    "              \"Bedford\": \"Bedford, Nova Scotia, Canada\"\n",
    "              }\n",
    "#Create map object\n",
    "Halifax_Covid_Exposures = Halifax_GIS_Map.map(places_dict[\"Dartmouth\"],12)\n",
    "#Insert basemap\n",
    "Halifax_Covid_Exposures.basemap = \"streets-night-vector\" #map style\n",
    "#Show map\n",
    "Halifax_Covid_Exposures"
   ]
  },
  {
   "cell_type": "markdown",
   "metadata": {},
   "source": [
    "## (**Note that if this is the first time opening the file, you might not see anything on the map until we run the geocode process below.)\n",
    "\n",
    "# 1.0 - Data scraping and cleaning with Pandas:\n",
    "\n",
    "## Nova Scotia Covid-19 Exposure Data is public through: https://www.nshealth.ca/coronavirus-exposures?title=&field_covid_exposure_zone_value=All&order=changed&sort=desc%20\n",
    "\n",
    "\n",
    "## Similarily, Nova Scotia Flights and Transit Covid-19 Exposure Data for is public through: https://www.nshealth.ca/coronavirus-exposures-transit."
   ]
  },
  {
   "cell_type": "code",
   "execution_count": 19,
   "metadata": {},
   "outputs": [
    {
     "name": "stdout",
     "output_type": "stream",
     "text": [
      "Check for NaN values in our columns\n",
      "Place: False\n",
      "Potential Exposure Window: False\n",
      "Address: True\n",
      "Zone: True\n",
      "Last Updated: False\n",
      "Exposure Area: True\n",
      "Empty values in exposure area\n",
      "Zone value empty due to flights\n",
      "Zone Data Cleaning Complete: False\n",
      "Attributing Covid Flights to Halifax Stanfield International Airport\n",
      "Creating A Geolocation Address Column For Each Exposure Site...\n",
      "Geolocation Address Column: Included\n",
      "Creating Geolocation Address Coordinates\n",
      "Creating ArcGIS Map Object\n",
      "Geocoding Complete\n",
      "Create Latitude & Longitude Columns\n",
      "Creating Latitude and Longitude Columns\n",
      "Exporting to CSV\n",
      "CSV Complete\n"
     ]
    }
   ],
   "source": [
    "#We we scrape 'table' contents from the exposure site website using the pandas function pd.read_html(). This handily collects all of the data visible on the page onto a pandas dataframe object.\n",
    "# Public Exposures\n",
    "df1 = pd.read_html(\"http://www.nshealth.ca/covid-exposures\")\n",
    "df2 = pd.read_html(\"https://www.nshealth.ca/coronavirus-exposures?title=&field_covid_exposure_zone_value=All&page=1\")\n",
    "df3 = pd.read_html(\"https://www.nshealth.ca/coronavirus-exposures?title=&field_covid_exposure_zone_value=All&page=2\")\n",
    "df4 = pd.read_html(\"https://www.nshealth.ca/coronavirus-exposures?title=&field_covid_exposure_zone_value=All&page=3\")\n",
    "df6 = pd.read_html(\"https://www.nshealth.ca/coronavirus-exposures?title=&field_covid_exposure_zone_value=All&page=4\")\n",
    "df7 = pd.read_html(\"https://www.nshealth.ca/coronavirus-exposures?title=&field_covid_exposure_zone_value=All&page=5\")\n",
    "\n",
    "# Flight and Transit Exposures\n",
    "df_transit = pd.read_html(\"https://www.nshealth.ca/coronavirus-exposures-transit\")\n",
    "df_transit = df_transit[0].rename(columns={'Route or flight': \"Place\"})\n",
    "#Concatenate all of our dataframes into one to compile all Covid-19 exposures onto one dataframe.\n",
    "df5 = pd.concat([df1[0],df2[0],df3[0],df4[0],df6[0],df7[0],df_transit], ignore_index = True)\n",
    "\n",
    "\n",
    "\n",
    "#################################################################\n",
    "#####Check the dataframe to see which columns have NaN values####\n",
    "#################################################################\n",
    "if df5.isnull().values.any():\n",
    "    print(\"Check for NaN values in our columns\")\n",
    "    print(\"Place: \" + str(df5[\"Place\"].isnull().values.any()))\n",
    "    print(\"Potential Exposure Window: \" + str(df5[\"Potential Exposure Window\"].isnull().values.any()))\n",
    "    print(\"Address: \" + str(df5[\"Address\"].isnull().values.any()))\n",
    "    #print(\"Details: \" + str(df5[\"Details\"].isnull().values.any()))\n",
    "    print(\"Zone: \" + str(df5[\"Zone\"].isnull().values.any()))\n",
    "    print(\"Last Updated: \" + str(df5[\"Last Updated\"].isnull().values.any()))\n",
    "    print(\"Exposure Area: \" + str(df5[\"Exposure area\"].isnull().values.any()))\n",
    "#print(\"no null values\")\n",
    "\n",
    "#Exposure Area NAN\n",
    "\n",
    "if df5[\"Exposure area\"].isnull().values.any():\n",
    "    print(\"Empty values in exposure area\")\n",
    "    null_exposures_index = df5[df5[\"Exposure area\"].isnull().values].index\n",
    "    df5[\"Exposure area\"].iloc[null_exposures_index] = df5[\"Place\"].iloc[null_exposures_index]\n",
    "\n",
    "##Zone Column NAN\n",
    "if df5['Zone'].isnull().values.any():\n",
    "    print(\"Zone value empty due to flights\")\n",
    "    null_zone_index = df5[df5['Zone'].isnull().values].index\n",
    "    df5.iloc[null_zone_index,4] = \"Flight\"\n",
    "    print(\"Zone Data Cleaning Complete: \"+ str(df5[\"Zone\"].isnull().any()))\n",
    "#print(\"no null zone values\")\n",
    "\n",
    "####Data Cleaning####\n",
    "#Identify individual flight and transit routes into their own respective dataframes.\n",
    "\n",
    "\n",
    "#Identify Covid Flights and Transit Routes\n",
    "print(\"Attributing Covid Flights to Halifax Stanfield International Airport\")\n",
    "covid_flights = df5[df5[\"Place\"].str.contains(\"to Halifax\")]\n",
    "covid_bus_routes = df5[(df5[\"Place\"].str.contains(\"Transit\")) | (df5[\"Place\"].str.contains(\"Route\"))]\n",
    "\n",
    "#Update Covid Flights' Address vakue to Halifax Stanfield International Airport:\n",
    "df5[\"Address\"].iloc[covid_flights.index] = \"Halifax Stanfield International Airport\"\n",
    "df5[\"Zone\"].iloc[covid_flights.index] = \"Flight\"\n",
    "\n",
    "#Similarily, update Covid Routes Address to the Transit Route\n",
    "df5[\"Address\"].iloc[covid_bus_routes.index] = \"Halifax Transit Bridge Terminal\"\n",
    "#df5[\"Zone\"].iloc[covid_bus_routes.index] = \"Halifax Transit Bridge Terminal\"\n",
    "\n",
    "\n",
    "#####################################################\n",
    "################Creating Geolocations################\n",
    "#####################################################\n",
    "\n",
    "#Create a Geolocation Address which will be fed into ArcGIS\n",
    "print(\"Creating A Geolocation Address Column For Each Exposure Site...\")\n",
    "\n",
    "#We create a Geolocation Address column which will be fed into the geocoding function. We join both dataframe columns by use of a lambda function. \n",
    "df5['Geolocation Address'] = df5[['Place', 'Address']].apply(lambda x: ' - '.join(x.map(str)), axis=1)\n",
    "#We take the Address calculated and append Nova Scotia to the location. This helps the geocode function to identify our location more accurately.\n",
    "df5['Geolocation Address'] = df5['Geolocation Address'] + \", Nova Scotia, Canada\" \n",
    "print(\"Geolocation Address Column: Included\")\n",
    "\n",
    "#####################################################\n",
    "################Apply Geocode Function###############\n",
    "#####################################################\n",
    "print(\"Creating Geolocation Address Coordinates\")\n",
    "##Create GIS Object!\n",
    "print(\"Creating ArcGIS Map Object\")\n",
    "\n",
    "#Call the map and wipe any previous points currently plotted.\n",
    "Halifax_GIS_Map = GIS()\n",
    "\n",
    "\n",
    "\n",
    "##Create a new column which will store our geocoded results.\n",
    "df5['Geolocation Address Coords'] = df5['Geolocation Address'].apply(lambda x: geocode(x,out_fields=\"address,location,City,Country,URL\"))\n",
    "print(\"Geocoding Complete\")\n",
    "\n",
    "#########################################################################################\n",
    "####################Obtaining Latitude and Longitude for each address####################\n",
    "#########################################################################################\n",
    "print(\"Create Latitude & Longitude Columns\")\n",
    "indices = df5['Geolocation Address Coords'].index\n",
    "#We create an empty list array to store a series of longitude and latitude values\n",
    "longitudeseries = []\n",
    "latitudeseries = []\n",
    "print(\"Creating Latitude and Longitude Columns\")\n",
    "for number in indices:\n",
    "    #print(number)\n",
    "    longitudeseries.append(df5['Geolocation Address Coords'][number][0][\"location\"][\"x\"])\n",
    "    latitudeseries.append(df5['Geolocation Address Coords'][number][0][\"location\"][\"y\"])\n",
    "#Create new columns to our dataframe containing the spatial information for each exposure site.\n",
    "df5[\"longitude\"] = longitudeseries\n",
    "df5[\"latitude\"] = latitudeseries\n",
    "\n",
    "#########################################################################################\n",
    "####################Export to CSV########################################################\n",
    "#########################################################################################\n",
    "\n",
    "print(\"Exporting to CSV\")\n",
    "df5.to_csv('./covidlocations.csv')\n",
    "print(\"CSV Complete\")"
   ]
  },
  {
   "cell_type": "markdown",
   "metadata": {},
   "source": [
    "# Covid-19 Exposure Data for Nova Scotia"
   ]
  },
  {
   "cell_type": "code",
   "execution_count": 20,
   "metadata": {},
   "outputs": [
    {
     "data": {
      "text/html": [
       "<div>\n",
       "<style scoped>\n",
       "    .dataframe tbody tr th:only-of-type {\n",
       "        vertical-align: middle;\n",
       "    }\n",
       "\n",
       "    .dataframe tbody tr th {\n",
       "        vertical-align: top;\n",
       "    }\n",
       "\n",
       "    .dataframe thead th {\n",
       "        text-align: right;\n",
       "    }\n",
       "</style>\n",
       "<table border=\"1\" class=\"dataframe\">\n",
       "  <thead>\n",
       "    <tr style=\"text-align: right;\">\n",
       "      <th></th>\n",
       "      <th>Place</th>\n",
       "      <th>Potential Exposure Window</th>\n",
       "      <th>Address</th>\n",
       "      <th>Covid Exposure Or Precaution</th>\n",
       "      <th>Zone</th>\n",
       "      <th>Last Updated</th>\n",
       "      <th>Exposure area</th>\n",
       "      <th>Geolocation Address</th>\n",
       "      <th>Geolocation Address Coords</th>\n",
       "      <th>longitude</th>\n",
       "      <th>latitude</th>\n",
       "    </tr>\n",
       "  </thead>\n",
       "  <tbody>\n",
       "    <tr>\n",
       "      <th>0</th>\n",
       "      <td>Kiju Restaurant</td>\n",
       "      <td>Tue, 12/14/2021 - 18:30 to 21:30</td>\n",
       "      <td>50 Maillard Street, Membertou</td>\n",
       "      <td>Precaution</td>\n",
       "      <td>Eastern</td>\n",
       "      <td>12/17/2021 - 20:56</td>\n",
       "      <td>Kiju Restaurant</td>\n",
       "      <td>Kiju Restaurant - 50 Maillard Street, Memberto...</td>\n",
       "      <td>[{'address': '50 Maillard St, Sydney, Cape Bre...</td>\n",
       "      <td>-60.191981</td>\n",
       "      <td>46.120673</td>\n",
       "    </tr>\n",
       "    <tr>\n",
       "      <th>1</th>\n",
       "      <td>Alteregos Cafe and Catering</td>\n",
       "      <td>Tue, 12/14/2021 - 15:15 to 17:00</td>\n",
       "      <td>2193 Gottingen St., Halifax</td>\n",
       "      <td>Precaution</td>\n",
       "      <td>Central</td>\n",
       "      <td>12/16/2021 - 20:13</td>\n",
       "      <td>Alteregos Cafe and Catering</td>\n",
       "      <td>Alteregos Cafe and Catering - 2193 Gottingen S...</td>\n",
       "      <td>[{'address': 'Alterego's Cafe &amp; Catering', 'lo...</td>\n",
       "      <td>-63.584910</td>\n",
       "      <td>44.653100</td>\n",
       "    </tr>\n",
       "    <tr>\n",
       "      <th>2</th>\n",
       "      <td>Alteregos Cafe and Catering</td>\n",
       "      <td>Mon, 12/13/2021 - 15:15 to 17:00</td>\n",
       "      <td>2193 Gottingen St., Halifax</td>\n",
       "      <td>Precaution</td>\n",
       "      <td>Central</td>\n",
       "      <td>12/16/2021 - 20:11</td>\n",
       "      <td>Alteregos Cafe and Catering</td>\n",
       "      <td>Alteregos Cafe and Catering - 2193 Gottingen S...</td>\n",
       "      <td>[{'address': 'Alterego's Cafe &amp; Catering', 'lo...</td>\n",
       "      <td>-63.584910</td>\n",
       "      <td>44.653100</td>\n",
       "    </tr>\n",
       "    <tr>\n",
       "      <th>3</th>\n",
       "      <td>Sackville High School gymnasium and lobby</td>\n",
       "      <td>Mon, 12/13/2021 - 14:30 to 21:00</td>\n",
       "      <td>1 Kingfisher Way, Lower Sackville</td>\n",
       "      <td>Precaution</td>\n",
       "      <td>Central</td>\n",
       "      <td>12/16/2021 - 20:09</td>\n",
       "      <td>Sackville High School gymnasium and lobby</td>\n",
       "      <td>Sackville High School gymnasium and lobby - 1 ...</td>\n",
       "      <td>[{'address': 'Sackville High School', 'locatio...</td>\n",
       "      <td>-63.673750</td>\n",
       "      <td>44.775330</td>\n",
       "    </tr>\n",
       "    <tr>\n",
       "      <th>4</th>\n",
       "      <td>Midtown – Boomers Tavern &amp; Lounge</td>\n",
       "      <td>Sun, 12/12/2021 - 21:30 to Mon, 12/13/2021 - 0...</td>\n",
       "      <td>1744 Grafton Street, Halifax</td>\n",
       "      <td>Precaution</td>\n",
       "      <td>Central</td>\n",
       "      <td>12/17/2021 - 21:20</td>\n",
       "      <td>Midtown – Boomers Tavern &amp; Lounge</td>\n",
       "      <td>Midtown – Boomers Tavern &amp; Lounge - 1744 Graft...</td>\n",
       "      <td>[{'address': '1744 Grafton St, Halifax, Nova S...</td>\n",
       "      <td>-63.575882</td>\n",
       "      <td>44.647724</td>\n",
       "    </tr>\n",
       "    <tr>\n",
       "      <th>...</th>\n",
       "      <td>...</td>\n",
       "      <td>...</td>\n",
       "      <td>...</td>\n",
       "      <td>...</td>\n",
       "      <td>...</td>\n",
       "      <td>...</td>\n",
       "      <td>...</td>\n",
       "      <td>...</td>\n",
       "      <td>...</td>\n",
       "      <td>...</td>\n",
       "      <td>...</td>\n",
       "    </tr>\n",
       "    <tr>\n",
       "      <th>296</th>\n",
       "      <td>Air Canada 614 Toronto to Halifax</td>\n",
       "      <td>Fri, 12/03/2021 - 14:00 to 17:00</td>\n",
       "      <td>Halifax Stanfield International Airport</td>\n",
       "      <td>Exposure</td>\n",
       "      <td>Flight</td>\n",
       "      <td>12/15/2021 - 14:32</td>\n",
       "      <td>Passengers in rows 11-17, seats, C, D, E and F.</td>\n",
       "      <td>Air Canada 614 Toronto to Halifax - Halifax St...</td>\n",
       "      <td>[{'address': 'Halifax Stanfield International ...</td>\n",
       "      <td>-63.515310</td>\n",
       "      <td>44.886260</td>\n",
       "    </tr>\n",
       "    <tr>\n",
       "      <th>297</th>\n",
       "      <td>Halifax Transit Route #041 (Dartmouth-Dalhousie)</td>\n",
       "      <td>Fri, 12/03/2021 - 13:00 to 13:15</td>\n",
       "      <td>Halifax Transit Bridge Terminal</td>\n",
       "      <td>Precaution</td>\n",
       "      <td>Central</td>\n",
       "      <td>12/15/2021 - 14:43</td>\n",
       "      <td>Scotia Square to LeMarchant St</td>\n",
       "      <td>Halifax Transit Route #041 (Dartmouth-Dalhousi...</td>\n",
       "      <td>[{'address': '41 Dartmouth Rd, Bedford, Halifa...</td>\n",
       "      <td>-63.652517</td>\n",
       "      <td>44.728288</td>\n",
       "    </tr>\n",
       "    <tr>\n",
       "      <th>298</th>\n",
       "      <td>Halifax Transit Route #024 (Leiblin Park)</td>\n",
       "      <td>Fri, 12/03/2021 - 13:00 to 13:30</td>\n",
       "      <td>Halifax Transit Bridge Terminal</td>\n",
       "      <td>Precaution</td>\n",
       "      <td>Central</td>\n",
       "      <td>12/15/2021 - 14:43</td>\n",
       "      <td>South Park and South St to Leiblin and Juniper</td>\n",
       "      <td>Halifax Transit Route #024 (Leiblin Park) - Ha...</td>\n",
       "      <td>[{'address': '24 Leiblin Dr, Halifax, Nova Sco...</td>\n",
       "      <td>-63.625627</td>\n",
       "      <td>44.604543</td>\n",
       "    </tr>\n",
       "    <tr>\n",
       "      <th>299</th>\n",
       "      <td>Halifax Transit Route #009A (Greystone)</td>\n",
       "      <td>Fri, 12/03/2021 - 08:45 to 09:00</td>\n",
       "      <td>Halifax Transit Bridge Terminal</td>\n",
       "      <td>Precaution</td>\n",
       "      <td>Central</td>\n",
       "      <td>12/15/2021 - 14:44</td>\n",
       "      <td>Mumford Road Terminal to Scotia Square</td>\n",
       "      <td>Halifax Transit Route #009A (Greystone) - Hali...</td>\n",
       "      <td>[{'address': '009A Greystone Dr, Halifax, Nova...</td>\n",
       "      <td>-63.611427</td>\n",
       "      <td>44.602949</td>\n",
       "    </tr>\n",
       "    <tr>\n",
       "      <th>300</th>\n",
       "      <td>Halifax Transit Route #025 (Governors Brook)</td>\n",
       "      <td>Fri, 12/03/2021 - 08:30 to 08:45</td>\n",
       "      <td>Halifax Transit Bridge Terminal</td>\n",
       "      <td>Precaution</td>\n",
       "      <td>Central</td>\n",
       "      <td>12/15/2021 - 14:44</td>\n",
       "      <td>Pine Grove and Herring Cove to Mumford Road Te...</td>\n",
       "      <td>Halifax Transit Route #025 (Governors Brook) -...</td>\n",
       "      <td>[{'address': '25 Governors Ct, Bedford, Halifa...</td>\n",
       "      <td>-63.663840</td>\n",
       "      <td>44.732499</td>\n",
       "    </tr>\n",
       "  </tbody>\n",
       "</table>\n",
       "<p>301 rows × 11 columns</p>\n",
       "</div>"
      ],
      "text/plain": [
       "                                                Place  ...   latitude\n",
       "0                                     Kiju Restaurant  ...  46.120673\n",
       "1                         Alteregos Cafe and Catering  ...  44.653100\n",
       "2                         Alteregos Cafe and Catering  ...  44.653100\n",
       "3           Sackville High School gymnasium and lobby  ...  44.775330\n",
       "4                   Midtown – Boomers Tavern & Lounge  ...  44.647724\n",
       "..                                                ...  ...        ...\n",
       "296                 Air Canada 614 Toronto to Halifax  ...  44.886260\n",
       "297  Halifax Transit Route #041 (Dartmouth-Dalhousie)  ...  44.728288\n",
       "298         Halifax Transit Route #024 (Leiblin Park)  ...  44.604543\n",
       "299           Halifax Transit Route #009A (Greystone)  ...  44.602949\n",
       "300      Halifax Transit Route #025 (Governors Brook)  ...  44.732499\n",
       "\n",
       "[301 rows x 11 columns]"
      ]
     },
     "execution_count": 20,
     "metadata": {},
     "output_type": "execute_result"
    }
   ],
   "source": [
    "df5"
   ]
  },
  {
   "cell_type": "markdown",
   "metadata": {},
   "source": [
    "## Define Map Icon"
   ]
  },
  {
   "cell_type": "code",
   "execution_count": 21,
   "metadata": {},
   "outputs": [],
   "source": [
    "geotag_symbol_dict_redbullseye = {\"angle\":0,\"xoffset\":0,\"yoffset\":0,\"type\":\"esriPMS\",\"url\":\"http://static.arcgis.com/images/Symbols/Basic/esriCrimeMarker_86.png\",\"contentType\":\"image/png\",\"width\":16,\"height\":16}\n",
    "geotag_symbol_dict_redfirefly = {\"angle\":0,\"xoffset\":0,\"yoffset\":0,\"type\":\"esriPMS\",\"url\":\"https://static.arcgis.com/images/Symbols/Firefly/FireflyD20.png\",\"contentType\":\"image/png\",\"width\":24,\"height\":24}\n",
    "geotag_symbol_dict_radioactive = {\"angle\":0,\"xoffset\":0,\"yoffset\":0,\"type\":\"esriPMS\",\"url\":\"http://static.arcgis.com/images/Symbols/PeoplePlaces/Radioactive.png\",\"contentType\":\"image/png\",\"width\":16,\"height\":16}\n"
   ]
  },
  {
   "cell_type": "markdown",
   "metadata": {},
   "source": [
    "# Iterate through Geocoded results and apply .draw() function to display them on our map.\n",
    "## We also call a content.search() obtaining Healthcare facitilies in Canada data.\n",
    "\n",
    "This will help us study spatial relationships between Covid-19 Exposures with respect to the spatial location of healthcare facilities such as hospitals, nursing homes, and care homes.\n"
   ]
  },
  {
   "cell_type": "code",
   "execution_count": 22,
   "metadata": {},
   "outputs": [
    {
     "name": "stdout",
     "output_type": "stream",
     "text": [
      "Plotting location number 0/ 300: Kiju Restaurant - 50 Maillard Street, Membertou, Nova Scotia, Canada\n",
      "Plotting location number 1/ 300: Alteregos Cafe and Catering - 2193 Gottingen St., Halifax, Nova Scotia, Canada\n",
      "Plotting location number 2/ 300: Alteregos Cafe and Catering - 2193 Gottingen St., Halifax, Nova Scotia, Canada\n",
      "Plotting location number 3/ 300: Sackville High School gymnasium and lobby - 1 Kingfisher Way, Lower Sackville, Nova Scotia, Canada\n",
      "Plotting location number 4/ 300: Midtown – Boomers Tavern & Lounge - 1744 Grafton Street, Halifax, Nova Scotia, Canada\n",
      "Plotting location number 5/ 300: Zatsman Sportsplex Gymnasium - Basketball game, 110 Wyse Rd., Dartmouth, Nova Scotia, Canada\n",
      "Plotting location number 6/ 300: The Resolutes Club - 5461 Inglis Street, Halifax, Nova Scotia, Canada\n",
      "Plotting location number 7/ 300: The Old Triangle - 5136 Prince Street, Halifax, Nova Scotia, Canada\n",
      "Plotting location number 8/ 300: Kai Brady’s - 5679 Spring Garden Road, Halifax, Nova Scotia, Canada\n",
      "Plotting location number 9/ 300: Dooley's Antigonish - 26 College St., Antigonish, Nova Scotia, Canada\n",
      "Plotting location number 10/ 300: Mic Mac Bar and Grill - 219 Waverly Road, Dartmouth, Nova Scotia, Canada\n",
      "Plotting location number 11/ 300: Compass Distillers - 2533 Agricola Street, Halifax, Nova Scotia, Canada\n",
      "Plotting location number 12/ 300: Scotiabank Centre – Section 20, Row D - 1800 Argyle Street, Halifax, Nova Scotia, Canada\n",
      "Plotting location number 13/ 300: The Oxford Taproom - 6418 Quinpool Road, Halifax, Nova Scotia, Canada\n",
      "Plotting location number 14/ 300: Harvey’s Restaurant - 216 Chain Lake Drive, Bayer’s Lake, Halifax, Nova Scotia, Canada\n",
      "Plotting location number 15/ 300: Chain Yard Urban Cidery - 2606 Agricola Street, Halifax, Nova Scotia, Canada\n",
      "Plotting location number 16/ 300: Lefty's Restaurant & Lounge - 3650 Hammonds Plains Rd, Upper Tantallon, Nova Scotia, Canada\n",
      "Plotting location number 17/ 300: St. Francis Xavier University - Bauer Theatre - Bauer Theatre, Nova Scotia, Canada\n",
      "Plotting location number 18/ 300: Moxie’s Bar & Grill - 1610 Argyle Street, Halifax, Nova Scotia, Canada\n",
      "Plotting location number 19/ 300: Fit4Less - 278 Lacewood Drive, Halifax, Nova Scotia, Canada\n",
      "Plotting location number 20/ 300: Cineplex Cinemas - Lower Sackville - 760 Sackville Dr., Lower Sackville, Nova Scotia, Canada\n",
      "Plotting location number 21/ 300: Montana’s - 196B Chain Lake Drive, Bayer’s Lake, Halifax, Nova Scotia, Canada\n",
      "Plotting location number 22/ 300: Mic Mac Mall Food Court - 21 Micmac Blvd, Dartmouth, Nova Scotia, Canada\n",
      "Plotting location number 23/ 300: Glow Halifax - 200 Prospect Rd., Goodwood, Nova Scotia, Canada\n",
      "Plotting location number 24/ 300: Fit4Less - Bedford Place Mall - 1658 Bedford Highway, Bedford, Nova Scotia, Canada\n",
      "Plotting location number 25/ 300: Wendy’s - 11 Lakelands Blvd, Halifax, Nova Scotia, Canada\n",
      "Plotting location number 26/ 300: Goodlife Fitness Tantallon Westwood - 3650 Hammonds Plains Rd, Upper Tantallon, Nova Scotia, Canada\n",
      "Plotting location number 27/ 300: Bitter End Martini Bar and Restaurant - 1572 Argyle Street, Halifax, Nova Scotia, Canada\n",
      "Plotting location number 28/ 300: The Resolutes Club - 5461 Inglis St., Halifax, Nova Scotia, Canada\n",
      "Plotting location number 29/ 300: Durty Nelly’s - 1645 Argyle Street, Halifax, Nova Scotia, Canada\n",
      "Plotting location number 30/ 300: Brown Hound Public House - 2394 Agricola Street, Halifax, Nova Scotia, Canada\n",
      "Plotting location number 31/ 300: Scotiabank Centre -Thunderbirds game - 1800 Argyle St., Halifax, Nova Scotia, Canada\n",
      "Plotting location number 32/ 300: Scotiabank Centre – Section 13 - 1800 Argyle Street, Halifax, Nova Scotia, Canada\n",
      "Plotting location number 33/ 300: Lot Six Bar and Restaurant - 1685 Argyle Street, Halifax, Nova Scotia, Canada\n",
      "Plotting location number 34/ 300: Economy Shoe Shop - 1663 Argyle Street, Halifax, Nova Scotia, Canada\n",
      "Plotting location number 35/ 300: Irving Big Stop - 13239 Trans Canada Hwy, Auld's Cove, Nova Scotia, Canada\n",
      "Plotting location number 36/ 300: Pickford and Black Restaurant (Historic Properties) - 1869 Upper Water St., Halifax, Nova Scotia, Canada\n",
      "Plotting location number 37/ 300: Tusket Falls Brewing Co. - 2220 Gottingen St. Halifax, Nova Scotia, Canada\n",
      "Plotting location number 38/ 300: GoodLife Fitness - 555 Portland Street, Dartmouth, Nova Scotia, Canada\n",
      "Plotting location number 39/ 300: Mary Brown’s/Bayside Travel Centre/Esso - 86 Bayside Road, Afton Station, Nova Scotia, Canada\n",
      "Plotting location number 40/ 300: Scotiabank Centre – Mooseheads game - Section 6, Row E seats 12-14 - 1800 Argyle St., Halifax, Nova Scotia, Canada\n",
      "Plotting location number 41/ 300: Moonlight Restaurant - 210 Main St., Antigonish, Nova Scotia, Canada\n",
      "Plotting location number 42/ 300: Swiss Chalet - 3434 Kempt Road, Halifax, Nova Scotia, Canada\n",
      "Plotting location number 43/ 300: Cole Harbour Place - upstairs gym/weight room, 51 Forest Hills Parkway, Dartmouth, Nova Scotia, Canada\n",
      "Plotting location number 44/ 300: McDonald's - 6982 Mumford Rd., Halifax, Nova Scotia, Canada\n",
      "Plotting location number 45/ 300: Halifax Central Library - 5440 Spring Garden Rd., Halifax, Nova Scotia, Canada\n",
      "Plotting location number 46/ 300: Kai Brady’s - 5679 Spring Garden Rd., Halifax, Nova Scotia, Canada\n",
      "Plotting location number 47/ 300: Nine Locks Taproom - 5686 Spring Garden Rd, Halifax, Nova Scotia, Canada\n",
      "Plotting location number 48/ 300: Pins Bowling - 3072 Hwy 104, Antigonish, Nova Scotia, Canada\n",
      "Plotting location number 49/ 300: The Pint - 1575 Argyle St., Halifax, Nova Scotia, Canada\n",
      "Plotting location number 50/ 300: Pizza Delight - 348 Main St., Antigonish, Nova Scotia, Canada\n",
      "Plotting location number 51/ 300: St. Francis Xavier University - Angus L. MacDonald Library - Angus L. MacDonald Library, Nova Scotia, Canada\n",
      "Plotting location number 52/ 300: Walmart - 220 Chain Lake Dr., Halifax, Nova Scotia, Canada\n",
      "Plotting location number 53/ 300: Canadian Tire - 194 Chain Lake Dr., Halifax, Nova Scotia, Canada\n",
      "Plotting location number 54/ 300: Lee Valley - 150 Susie Lake Crescent, Unit 1, Halifax, Nova Scotia, Canada\n",
      "Plotting location number 55/ 300: Sensea Nordic Spa - 40 Sensea Rd, Chester, Nova Scotia, Canada\n",
      "Plotting location number 56/ 300: Just Spring Roll - 5657 Spring Garden Rd., Halifax, Nova Scotia, Canada\n",
      "Plotting location number 57/ 300: Just Spring Roll, Halifax - 5657 Spring Garden Rd., Halifax, Nova Scotia, Canada\n",
      "Plotting location number 58/ 300: St. Francis Xavier - Charles V. Keating Centre - Charles V. Keating arena, Nova Scotia, Canada\n",
      "Plotting location number 59/ 300: St. Francis Xavier University - Morrison Dining Hall, Nova Scotia, Canada\n",
      "Plotting location number 60/ 300: Mary’s Place Café II - 5982 Spring Garden Rd., Halifax, Nova Scotia, Canada\n",
      "Plotting location number 61/ 300: YMCA Pictou County - 2756 Westville Rd., New Glasgow, Nova Scotia, Canada\n",
      "Plotting location number 62/ 300: Piper’s Pub - 33 College Road, Antigonish, Nova Scotia, Canada\n",
      "Plotting location number 63/ 300: The Tall and Small Café - 342 Main St., Antigonish, Nova Scotia, Canada\n",
      "Plotting location number 64/ 300: Boston Pizza - 133 Church St., Antigonish, Nova Scotia, Canada\n",
      "Plotting location number 65/ 300: Neptune Theatre - 1593 Argyle St., Halifax, Nova Scotia, Canada\n",
      "Plotting location number 66/ 300: The Resolutes Club - 5461 Inglis St., Halifax, Nova Scotia, Canada\n",
      "Plotting location number 67/ 300: Edna - 2053 Gottingen St., Halifax, Nova Scotia, Canada\n",
      "Plotting location number 68/ 300: Gracenote - 211 Horseshoe Lake Dr., Halifax, Nova Scotia, Canada\n",
      "Plotting location number 69/ 300: St. Francis Xavier University - Morrison Dining Hall, Nova Scotia, Canada\n",
      "Plotting location number 70/ 300: St. Francis Xavier University - Bloomfield Centre - Bloomfield Centre (Convenience 4 U), Nova Scotia, Canada\n",
      "Plotting location number 71/ 300: Gahan House - 5239 Sackville Street, Halifax, Nova Scotia, Canada\n",
      "Plotting location number 72/ 300: Townhouse Restaurant - 76 College St., Antigonish, Nova Scotia, Canada\n",
      "Plotting location number 73/ 300: Superstore Antigonish - 26 Market St., Antigonish, Nova Scotia, Canada\n",
      "Plotting location number 74/ 300: GoodLife Fitness - 26 College St., Antigonish, Nova Scotia, Canada\n",
      "Plotting location number 75/ 300: Spindrift Oak Manor - 271 Main St., Antigonish, Nova Scotia, Canada\n",
      "Plotting location number 76/ 300: Myers Tea Room - 235 Main St., Antigonish, Nova Scotia, Canada\n",
      "Plotting location number 77/ 300: Canada Games Centre - Fitness Centre - 26 Thomas Raddell Dr., Halifax, Nova Scotia, Canada\n",
      "Plotting location number 78/ 300: Wired Monk - 5147 Morris St., Halifax, Nova Scotia, Canada\n",
      "Plotting location number 79/ 300: St. Francis Xavier University - Morrison Dining Hall, Nova Scotia, Canada\n",
      "Plotting location number 80/ 300: Harvest Farm to Table Eatery - 1625 Market St., Halifax, Nova Scotia, Canada\n",
      "Plotting location number 81/ 300: Salvatore’s Pizzaiolo Trattoria - 5541 Young Street, Halifax, Nova Scotia, Canada\n",
      "Plotting location number 82/ 300: St. Francis Xavier University - Bloomfield Centre - Bloomfield Centre, third floor study area, Nova Scotia, Canada\n",
      "Plotting location number 83/ 300: Canada Games Centre, Track and Men’s Dry Change Room - 26 Thomas Raddall Drive, Halifax, Nova Scotia, Canada\n",
      "Plotting location number 84/ 300: St. Francis Xavier University – Angus L. Macdonald Library - nan, Nova Scotia, Canada\n",
      "Plotting location number 85/ 300: Hotel Marriot Halifax - Breakfast area (1919 Upper Water St., Halifax), Nova Scotia, Canada\n",
      "Plotting location number 86/ 300: Antojo Taco + Tequila - 1667 Argyle St., Halifax, Nova Scotia, Canada\n",
      "Plotting location number 87/ 300: Rebecca Cohn Auditorium - 6101 University Ave, Halifax, Nova Scotia, Canada\n",
      "Plotting location number 88/ 300: Brownstone Restaurant - 244 Main St., Antigonish, Nova Scotia, Canada\n",
      "Plotting location number 89/ 300: Two Doors Down - 1533 Barrington St., Halifax, Nova Scotia, Canada\n",
      "Plotting location number 90/ 300: Antigonish Highland Dance Christmas Concert - St. Andrew Junior High School Gymnasium, 2 Appleseed Dr., Antigonish, Nova Scotia, Canada\n",
      "Plotting location number 91/ 300: Caledonia Junior High, basketball game, Dartmouth - 38 Caledonia Rd., Dartmouth, Nova Scotia, Canada\n",
      "Plotting location number 92/ 300: Caledonia Junior High - basketball game - 38 Caledonia Rd, Dartmouth, Nova Scotia, Canada\n",
      "Plotting location number 93/ 300: CrossFit Actuate - 1644 Brierly Brook Rd., Antigonish, Nova Scotia, Canada\n",
      "Plotting location number 94/ 300: Economy Shoe Shop - 1663 Argyle St., Halifax, Nova Scotia, Canada\n",
      "Plotting location number 95/ 300: Efes Turkish Cuisine - 5986 Spring Garden Rd, Halifax, Nova Scotia, Canada\n",
      "Plotting location number 96/ 300: Goodlife Fitness - 26 College St., Antigonish, Nova Scotia, Canada\n",
      "Plotting location number 97/ 300: St. Mary’s University - Patrick Power Library (5946 Inglis St., Halifax), Nova Scotia, Canada\n",
      "Plotting location number 98/ 300: Pizza Delight - 348 Main St., Antigonish, Nova Scotia, Canada\n",
      "Plotting location number 99/ 300: Montana’s Bayers Lake, Halifax - 196B Chain Lake Dr., Bayers Lake, Nova Scotia, Canada\n",
      "Plotting location number 100/ 300: Montana's Bayers Lake - 196B Chain Lake Dr., Bayers Lake, Nova Scotia, Canada\n",
      "Plotting location number 101/ 300: Tall and Small Cafe - 342 Main Street, Antigonish, Nova Scotia, Canada\n",
      "Plotting location number 102/ 300: St. Francis Xavier University - Bloomfield Campus (Dining Hall), Nova Scotia, Canada\n",
      "Plotting location number 103/ 300: Cheeky Neighbour Diner - 6024 Quinpool Rd., Halifax, Nova Scotia, Canada\n",
      "Plotting location number 104/ 300: Dairy Queen - 752 Sackville Dr., Sackville, Nova Scotia, Canada\n",
      "Plotting location number 105/ 300: Wired Monk - 5147 Morris St., Halifax, Nova Scotia, Canada\n",
      "Plotting location number 106/ 300: Snow Queen - 21 James St., Antigonish, Nova Scotia, Canada\n",
      "Plotting location number 107/ 300: St Francis Xavier University - Angus L. Macdonald Library, Nova Scotia, Canada\n",
      "Plotting location number 108/ 300: St. Francis Xavier University – Angus L. Macdonald Library - nan, Nova Scotia, Canada\n",
      "Plotting location number 109/ 300: St. Francis Xavier University - Bloomfield Centre - Bloomfield Centre, third floor study area, Nova Scotia, Canada\n",
      "Plotting location number 110/ 300: Hotel Marriot Halifax - Breakfast area (1919 Upper Water St., Halifax), Nova Scotia, Canada\n",
      "Plotting location number 111/ 300: GoodLife Fitness - 26 College St., Antigonish, Nova Scotia, Canada\n",
      "Plotting location number 112/ 300: Dooley's Antigonish - 26 College St., Antigonish, Nova Scotia, Canada\n",
      "Plotting location number 113/ 300: The Lower Deck - 1887 Upper Water Street, Halifax, Nova Scotia, Canada\n",
      "Plotting location number 114/ 300: Lower Deck Bar - 1887 Upper Water St., Halifax, Nova Scotia, Canada\n",
      "Plotting location number 115/ 300: Boston Pizza - 133 Church St., Antigonish, Nova Scotia, Canada\n",
      "Plotting location number 116/ 300: The Bicycle Thief - 1475 Lower Water St., Halifax, Nova Scotia, Canada\n",
      "Plotting location number 117/ 300: Mizu All You Can Eat - 644 Portland St., Dartmouth, Nova Scotia, Canada\n",
      "Plotting location number 118/ 300: St. Francis Xavier University – Angus L. Macdonald Library - First Floor Computer Lab, Nova Scotia, Canada\n",
      "Plotting location number 119/ 300: Highland Curling Club - 3916 NS-316, Saint Andrews, Nova Scotia, Canada\n",
      "Plotting location number 120/ 300: St. Margaret’s Centre - Fountain Arena (12 Westwood Blvd., Upper Tantallon), Nova Scotia, Canada\n",
      "Plotting location number 121/ 300: St. Francis Xavier University - Morrison Hall (dining hall), Nova Scotia, Canada\n",
      "Plotting location number 122/ 300: Main Street Café - Maritime Inn Restaurant - 158 Main Street, Antigonish, Nova Scotia, Canada\n",
      "Plotting location number 123/ 300: Lower Deck Bar - 1887 Upper Water St., Halifax, Nova Scotia, Canada\n",
      "Plotting location number 124/ 300: Montana’s Bayers Lake - 196B Chain Lake Dr., Bayers Lake, Nova Scotia, Canada\n",
      "Plotting location number 125/ 300: Coldstream Clear Distillery - 25 James St., Antigonish, Nova Scotia, Canada\n",
      "Plotting location number 126/ 300: Boston Pizza - 133 Church St., Antigonish, Nova Scotia, Canada\n",
      "Plotting location number 127/ 300: Shubie Park - Christmas Tree Lighting Event (54 Locks Road, Dartmouth), Nova Scotia, Canada\n",
      "Plotting location number 128/ 300: Canadian Tire - 133 Church St., Antigonish, Nova Scotia, Canada\n",
      "Plotting location number 129/ 300: Little Harbour Community Centre - Little Harbour, Nova Scotia, Canada\n",
      "Plotting location number 130/ 300: St. Francis Xavier University - Student Union Building - Fourth floor, Nova Scotia, Canada\n",
      "Plotting location number 131/ 300: Townhouse Restaurant - 76 College St., Antigonish, Nova Scotia, Canada\n",
      "Plotting location number 132/ 300: Snappy Tomato Pizza - 38 James St., Antigonish, Nova Scotia, Canada\n",
      "Plotting location number 133/ 300: Little Cristo's - 332 Main St., Antigonish, Nova Scotia, Canada\n",
      "Plotting location number 134/ 300: Cole Harbour High School Gym - Metro Basketball Association (2 Chameau Crescent, Dartmouth), Nova Scotia, Canada\n",
      "Plotting location number 135/ 300: Miller's Restaurant - 717 Reeves St., Port Hawkesbury, Nova Scotia, Canada\n",
      "Plotting location number 136/ 300: St. Francis Xavier University - Mulroney House (main floor study group), Nova Scotia, Canada\n",
      "Plotting location number 137/ 300: Antigonish Arena - Rink - 30 James St., Antigonish, Nova Scotia, Canada\n",
      "Plotting location number 138/ 300: Half Cocked Brewing Company - 1290 NS-245, Antigonish, Nova Scotia, Canada\n",
      "Plotting location number 139/ 300: Dairy Queen - 188 Chain Lake Dr., Halifax, Nova Scotia, Canada\n",
      "Plotting location number 140/ 300: Tim Horton's - 45 James St., Antigonish, Nova Scotia, Canada\n",
      "Plotting location number 141/ 300: Simeon's Family Restaurant - 581 Grand Lake Rd., Sydney, Nova Scotia, Canada\n",
      "Plotting location number 142/ 300: St. Francis Xavier University - campus tour by students and parents, Nova Scotia, Canada\n",
      "Plotting location number 143/ 300: St Francis Xavier University - Angus L. Macdonald Library, Nova Scotia, Canada\n",
      "Plotting location number 144/ 300: Five Guys - 1630 Argyle St., Halifax, Nova Scotia, Canada\n",
      "Plotting location number 145/ 300: Canada Games Centre - Aquatics Centre and family rooms (26 Thomas Raddall Drive, Halifax), Nova Scotia, Canada\n"
     ]
    },
    {
     "name": "stdout",
     "output_type": "stream",
     "text": [
      "Plotting location number 146/ 300: Coldstream Clear Distillery - 25 James St., Antigonish, Nova Scotia, Canada\n",
      "Plotting location number 147/ 300: Kent Building Supplies - 35 Market St., Antigonish, Nova Scotia, Canada\n",
      "Plotting location number 148/ 300: Justamere Café & Bakery - 137 Church St., Antigonish, Nova Scotia, Canada\n",
      "Plotting location number 149/ 300: St. Francis Xavier University - Morrison Dining Hall, Nova Scotia, Canada\n",
      "Plotting location number 150/ 300: Dalhousie University - Killam Memorial Library - Killam Memorial Library, Nova Scotia, Canada\n",
      "Plotting location number 151/ 300: Main Street Cafe - Maritime Inn Antigonish - 158 Main St., Antigonish, Nova Scotia, Canada\n",
      "Plotting location number 152/ 300: Immaculate Conception Church - 2881 Louisburg Main-a-Dieu, Main-a-Dieu, Nova Scotia, Canada\n",
      "Plotting location number 153/ 300: Esquire Restaurant - 772 Bedford Highway, Halifax, Nova Scotia, Canada\n",
      "Plotting location number 154/ 300: Esquire Restaurant - 772 Bedford Hwy., Halifax, Nova Scotia, Canada\n",
      "Plotting location number 155/ 300: Snow Queen Restaurant - 21 James St., Antigonish, Nova Scotia, Canada\n",
      "Plotting location number 156/ 300: Smitty’s - 1490 Cathedral Lane, Halifax, Nova Scotia, Canada\n",
      "Plotting location number 157/ 300: The Waffle Bus Stop - 18 College Street, Antigonish, Nova Scotia, Canada\n",
      "Plotting location number 158/ 300: Goodlife Fitness - 26 College St., Antigonish, Nova Scotia, Canada\n",
      "Plotting location number 159/ 300: St. Francis Xavier University – Angus L. Macdonald Library - Third Floor – across from the “Harry Potter” Room, Nova Scotia, Canada\n",
      "Plotting location number 160/ 300: St. Francis Xavier University – Angus L. Macdonald Library - nan, Nova Scotia, Canada\n",
      "Plotting location number 161/ 300: Kenny's Pizza - 30 College St., Antigonish, Nova Scotia, Canada\n",
      "Plotting location number 162/ 300: Kenny’s Pizza - 30 College St., Antigonish, Nova Scotia, Canada\n",
      "Plotting location number 163/ 300: The Dome - 1739 Grafton St., Halifax, Nova Scotia, Canada\n",
      "Plotting location number 164/ 300: Dooly’s Antigonish - 26 College St., Antigonish, Nova Scotia, Canada\n",
      "Plotting location number 165/ 300: The Press Gang Restaurant & Oyster Bar - 5218 Prince St., Halifax, Nova Scotia, Canada\n",
      "Plotting location number 166/ 300: St. Francis Xavier University - Power Hall (AA Section), Nova Scotia, Canada\n",
      "Plotting location number 167/ 300: St. Francis Xavier University - Somers Hall (BD Section), Nova Scotia, Canada\n",
      "Plotting location number 168/ 300: St. Francis Xavier University - Somers Hall (BD Section), Nova Scotia, Canada\n",
      "Plotting location number 169/ 300: Pizza Delight - 348 Main St., Antigonish, Nova Scotia, Canada\n",
      "Plotting location number 170/ 300: Gabrieau’s Bistro - 350 Main St., Antigonish, Nova Scotia, Canada\n",
      "Plotting location number 171/ 300: Piper's Pub - 33 College St., Antigonish, Nova Scotia, Canada\n",
      "Plotting location number 172/ 300: Piper's Pub - 33 College St., Antigonish, Nova Scotia, Canada\n",
      "Plotting location number 173/ 300: Spindrift Oak Manor - 271 Main St., Antigonish, Nova Scotia, Canada\n",
      "Plotting location number 174/ 300: Candid Brewery Company - 88 College St., Antigonish, Nova Scotia, Canada\n",
      "Plotting location number 175/ 300: Pizza Delight - 348 Main St., Antigonish, Nova Scotia, Canada\n",
      "Plotting location number 176/ 300: Scotiabank Centre - Thunderbirds game, section 13, Row S, seats 11-14 (1800 Argyle St., Halifax), Nova Scotia, Canada\n",
      "Plotting location number 177/ 300: Spindrift Oak Manor - 271 Main Street, Antigonish, Nova Scotia, Canada\n",
      "Plotting location number 178/ 300: Scotiabank Centre - Thunderbirds game - Section 14, Row G (1800 Argyle St., Halifax), Nova Scotia, Canada\n",
      "Plotting location number 179/ 300: Dartmouth Sportsplex - 110 Wyse Rd., Dartmouth, Nova Scotia, Canada\n",
      "Plotting location number 180/ 300: Boston Pizza - 133 Church St., Antigonish, Nova Scotia, Canada\n",
      "Plotting location number 181/ 300: Boston Pizza - 133 Church Street, Antigonish, Nova Scotia, Canada\n",
      "Plotting location number 182/ 300: Scotiabank Centre - Thunderbirds game, section 38, Rows E-H, seats, 1-5, 1800 Argyle St., Halifax, Nova Scotia, Canada\n",
      "Plotting location number 183/ 300: A&W - 54 James St., Antigonish, Nova Scotia, Canada\n",
      "Plotting location number 184/ 300: St. Francis Xavier University – Charles V. Keating Centre - Convocation Dinner, Nova Scotia, Canada\n",
      "Plotting location number 185/ 300: Moxie's Grill and Bar - 1610 Argyle St., Halifax, Nova Scotia, Canada\n",
      "Plotting location number 186/ 300: St. Francis Xavier University - Morrison Hall (dining hall), Nova Scotia, Canada\n",
      "Plotting location number 187/ 300: Boston Pizza - 133 Church St., Antigonish, Nova Scotia, Canada\n",
      "Plotting location number 188/ 300: St. Francis Xavier University - Morrison Hall - Morrison Hall dining hall, Nova Scotia, Canada\n",
      "Plotting location number 189/ 300: Antigonish Arena - Rink - 30 James St., Antigonish, Nova Scotia, Canada\n",
      "Plotting location number 190/ 300: Townhouse Restaurant - 76 College St., Antigonish, Nova Scotia, Canada\n",
      "Plotting location number 191/ 300: Gabrieau’s Bistro - 350 Main Street, Antigonish, Nova Scotia, Canada\n",
      "Plotting location number 192/ 300: Bella Rose Arts Centre - Element Dance Holiday Show (283 Thomas Raddall Drive, Halifax), Nova Scotia, Canada\n",
      "Plotting location number 193/ 300: Montana’s BBQ & Bar – Dartmouth Crossing - 101 Shubie Drive, Dartmouth, Nova Scotia, Canada\n",
      "Plotting location number 194/ 300: Coldstream Clear Distillery - 25 James Street, Antigonish, Nova Scotia, Canada\n",
      "Plotting location number 195/ 300: Coldstream Clear Distillery - 25 James St., Antigonish, Nova Scotia, Canada\n",
      "Plotting location number 196/ 300: St. Francis Xavier University – Charles V. Keating Centre - Fall Convocation, Nova Scotia, Canada\n",
      "Plotting location number 197/ 300: St Francis Xavier University - Angus L. Macdonald Library, Nova Scotia, Canada\n",
      "Plotting location number 198/ 300: Tall and Small Cafe - 342 Main Street, Antigonish, Nova Scotia, Canada\n",
      "Plotting location number 199/ 300: Queens Place - Emera Centre - 50 Queens Place Dr., Liverpool, Nova Scotia, Canada\n",
      "Plotting location number 200/ 300: Pita Pit - 44 James St., Antigonish, Nova Scotia, Canada\n",
      "Plotting location number 201/ 300: Goodlife Fitness - 26 College St., Antigonish, Nova Scotia, Canada\n",
      "Plotting location number 202/ 300: Playdium - 21 Cabela Road, Dartmouth, Nova Scotia, Canada\n",
      "Plotting location number 203/ 300: The Waffle Bus Stop - 18 College Street, Antigonish, Nova Scotia, Canada\n",
      "Plotting location number 204/ 300: Spindrift Oak Manor - 271 Main St., Antigonish, Nova Scotia, Canada\n",
      "Plotting location number 205/ 300: Half Cocked Brewing Company - 1290 NS-245, Antigonish, Nova Scotia, Canada\n",
      "Plotting location number 206/ 300: Mary’s Place Café II - 5982 Spring Garden Rd., Halifax, Nova Scotia, Canada\n",
      "Plotting location number 207/ 300: Swiss Chalet – Dartmouth Crossing - 16 Foulis Row, Dartmouth, Nova Scotia, Canada\n",
      "Plotting location number 208/ 300: Brownstone Restaurant - 244 Main St., Antigonish, Nova Scotia, Canada\n",
      "Plotting location number 209/ 300: Justamere Café & Bakery - 137 Church St., Antigonish, Nova Scotia, Canada\n",
      "Plotting location number 210/ 300: St. Francis Xavier University - Morrison Hall - Morrison Hall dining hall, Nova Scotia, Canada\n",
      "Plotting location number 211/ 300: Little Christo's - 332 Main St., Antigonish, Nova Scotia, Canada\n",
      "Plotting location number 212/ 300: Main Street Café - Maritime Inn Restaurant - 158 Main Street, Antigonish, Nova Scotia, Canada\n",
      "Plotting location number 213/ 300: Tim Horton's - 34 Main St., Antigonish, Nova Scotia, Canada\n",
      "Plotting location number 214/ 300: Quiznos - 201 Chain Lake Dr., Halifax, Nova Scotia, Canada\n",
      "Plotting location number 215/ 300: Sunnyside Too Restaurant - 1552 Bedford Hwy, Bedford, Nova Scotia, Canada\n",
      "Plotting location number 216/ 300: St. Francis Xavier University – Angus L. Macdonald Library - nan, Nova Scotia, Canada\n",
      "Plotting location number 217/ 300: Centennial Arena - stands for U9 hockey (27 Vimy Avenue, Halifax), Nova Scotia, Canada\n",
      "Plotting location number 218/ 300: GoodLife Fitness - 26 College St., Antigonish, Nova Scotia, Canada\n",
      "Plotting location number 219/ 300: Snow Queen Restaurant - 21 James Street, Antigonish, Nova Scotia, Canada\n",
      "Plotting location number 220/ 300: OnSide Performance Centre - 114 Chain Lake Dr., Halifax, Nova Scotia, Canada\n",
      "Plotting location number 221/ 300: Kenny's Pizza - 30 College St., Antigonish, Nova Scotia, Canada\n",
      "Plotting location number 222/ 300: Piper's Pub - 33 College St., Antigonish, Nova Scotia, Canada\n",
      "Plotting location number 223/ 300: Spindrift Oak Manor - 271 Main Street, Antigonish, Nova Scotia, Canada\n",
      "Plotting location number 224/ 300: Grindhouse Cafe - 2914 Main St., Antigonish, Nova Scotia, Canada\n",
      "Plotting location number 225/ 300: Candid Brewery Company - 88 College Street, Antigonish, Nova Scotia, Canada\n",
      "Plotting location number 226/ 300: St. Francis Xavier University – Student Union Building (party) - nan, Nova Scotia, Canada\n",
      "Plotting location number 227/ 300: St. Francis Xavier University - Golden X Inn - X Ring Super SUB Event, Bloomfield Centre, Nova Scotia, Canada\n",
      "Plotting location number 228/ 300: Gabrieau’s Bistro - 350 Main St., Antigonish, Nova Scotia, Canada\n",
      "Plotting location number 229/ 300: Boston Pizza - 133 Church Street, Antigonish, Nova Scotia, Canada\n",
      "Plotting location number 230/ 300: Justamere Café & Bakery - 137 Church St., Antigonish, Nova Scotia, Canada\n",
      "Plotting location number 231/ 300: Big Leagues - 920 Cole Harour Rd., Dartmouth, Nova Scotia, Canada\n",
      "Plotting location number 232/ 300: St. Francis Xavier University - MacIsaac Hall, Bishop's Hall, and Cameron Hall residences, Nova Scotia, Canada\n",
      "Plotting location number 233/ 300: Moxie's Grill and Bar - 1610 Argyle St., Halifax, Nova Scotia, Canada\n",
      "Plotting location number 234/ 300: St, Francis Xavier University - Amelia Saputo Centre, Nova Scotia, Canada\n",
      "Plotting location number 235/ 300: St. Francis Xavier University - Morrison Dining Hall, Nova Scotia, Canada\n",
      "Plotting location number 236/ 300: Jack Astor’s Bar and Grill - 184 Chain Lake Dr., Halifax, Nova Scotia, Canada\n",
      "Plotting location number 237/ 300: Jack Astor’s Bar & Grill - 184 Chain Lake Drive, Halifax, Nova Scotia, Canada\n",
      "Plotting location number 238/ 300: Boston Pizza - 194A Chain Lake Drive, Halifax, Nova Scotia, Canada\n",
      "Plotting location number 239/ 300: Pizza Delight - 348 Main Street, Antigonish, Nova Scotia, Canada\n",
      "Plotting location number 240/ 300: Townhouse Restaurant - 76 College St., Antigonish, Nova Scotia, Canada\n",
      "Plotting location number 241/ 300: St Francis Xavier University - Angus L. Macdonald Library (2nd floor cubbies), Nova Scotia, Canada\n",
      "Plotting location number 242/ 300: Playdium - 21 Cabela Road, Dartmouth, Nova Scotia, Canada\n",
      "Plotting location number 243/ 300: St. Francis Xavier University - Amelia Saputo Centre (Main gymnasium - Coach K Court), Nova Scotia, Canada\n",
      "Plotting location number 244/ 300: Goodlife Fitness - 26 College St., Antigonish, Nova Scotia, Canada\n",
      "Plotting location number 245/ 300: Antojo Taco + Tequila - 1667 Argyle St., Halifax, Nova Scotia, Canada\n",
      "Plotting location number 246/ 300: Vivid Hair & Body - 325 Main Street, Antigonish, Nova Scotia, Canada\n",
      "Plotting location number 247/ 300: CrossFit Actuate - 1644 Brierly Brook Rd., Antigonish, Nova Scotia, Canada\n",
      "Plotting location number 248/ 300: Main Street Café - Maritime Inn Restaurant - 158 Main Street, Antigonish, Nova Scotia, Canada\n",
      "Plotting location number 249/ 300: St. Francis Xavier - Charles V. Keating Centre, Nova Scotia, Canada\n",
      "Plotting location number 250/ 300: Royal Bank - 50 Tacoma Drive, Dartmouth, Nova Scotia, Canada\n",
      "Plotting location number 251/ 300: Tall and Small Cafe - 342 Main Street, Antigonish, Nova Scotia, Canada\n",
      "Plotting location number 252/ 300: Discovery Centre - 1215 Lower Water St., Halifax, Nova Scotia, Canada\n",
      "Plotting location number 253/ 300: Piper's Pub - 33 College St., Antigonish, Nova Scotia, Canada\n",
      "Plotting location number 254/ 300: Montana's BBQ & Bar - 196B Chain Lake Drive, Halifax, Nova Scotia, Canada\n",
      "Plotting location number 255/ 300: Candid Brewing Company - 88 College St., Antigonish, Nova Scotia, Canada\n",
      "Plotting location number 256/ 300: Finbars - 1595 Bedford Highway, Bedford, Nova Scotia, Canada\n",
      "Plotting location number 257/ 300: Main Street Café - Maritime Inn Restaurant - 158 Main Street, Antigonish, Nova Scotia, Canada\n",
      "Plotting location number 258/ 300: Goodlife Fitness - 26 College St., Antigonish, Nova Scotia, Canada\n",
      "Plotting location number 259/ 300: Lanes at Membertou - 185 Towerview Pl., Membertou, Nova Scotia, Canada\n",
      "Plotting location number 260/ 300: Tim Horton’s - 34 Main Street, Antigonish, Nova Scotia, Canada\n",
      "Plotting location number 261/ 300: St. Francis Xavier University – Angus L. Macdonald Library - Third Floor – across from the “Harry Potter” Room, Nova Scotia, Canada\n",
      "Plotting location number 262/ 300: Antigonish Nail Boutique - 4053 S River Road, Antigonish, Nova Scotia, Canada\n",
      "Plotting location number 263/ 300: Piper's Pub - 33 College St., Antigonish, Nova Scotia, Canada\n",
      "Plotting location number 264/ 300: Piper's Pub - 33 College St., Antigonish, Nova Scotia, Canada\n",
      "Plotting location number 265/ 300: Tantallon Public Library - 3646 Hammonds Plains Road, Upper Tantallon, Nova Scotia, Canada\n",
      "Plotting location number 266/ 300: St. Margaret's Centre – Smith Arena - 12 Westwood Blvd., Upper Tantallon, Nova Scotia, Canada\n",
      "Plotting location number 267/ 300: Canada Games Centre - Aquatics Centre and family rooms (26 Thomas Raddall Drive, Halifax), Nova Scotia, Canada\n",
      "Plotting location number 268/ 300: Goodlife Fitness - 26 College St., Antigonish, Nova Scotia, Canada\n",
      "Plotting location number 269/ 300: Halifax Shopping Centre - Food Court - 7001 Mumford Rd., Halifax, Nova Scotia, Canada\n",
      "Plotting location number 270/ 300: Dairy Queen - 2515 Dutch Village Road, Halifax, Nova Scotia, Canada\n",
      "Plotting location number 271/ 300: Lanes at Membertou - 185 Towerview Pl., Membertou, Nova Scotia, Canada\n",
      "Plotting location number 272/ 300: Halifax Transit Route #168B (Cherry Brook Express) - Halifax Transit Bridge Terminal, Nova Scotia, Canada\n",
      "Plotting location number 273/ 300: Halifax Transit Route #010 (Dalhousie) - Halifax Transit Bridge Terminal, Nova Scotia, Canada\n",
      "Plotting location number 274/ 300: Air Canada 604 Toronto to Halifax - Halifax Stanfield International Airport, Nova Scotia, Canada\n",
      "Plotting location number 275/ 300: Halifax Transit Rout #005 - Halifax Transit Bridge Terminal, Nova Scotia, Canada\n",
      "Plotting location number 276/ 300: Yuk Yuk’s Halifax - nan, Nova Scotia, Canada\n",
      "Plotting location number 277/ 300: Air Canada 620 Toronto to Halifax - Halifax Stanfield International Airport, Nova Scotia, Canada\n",
      "Plotting location number 278/ 300: Halifax Transit Route #005 (Portland) - Halifax Transit Bridge Terminal, Nova Scotia, Canada\n",
      "Plotting location number 279/ 300: WestJet 248 Toronto to Halifax - Halifax Stanfield International Airport, Nova Scotia, Canada\n",
      "Plotting location number 280/ 300: Halifax Transit Route #001 (Spring Garden) - Halifax Transit Bridge Terminal, Nova Scotia, Canada\n",
      "Plotting location number 281/ 300: Halifax Transit Route #001 (Spring Garden) - Halifax Transit Bridge Terminal, Nova Scotia, Canada\n",
      "Plotting location number 282/ 300: West Jet 3423 St. John’s to Halifax - Halifax Stanfield International Airport, Nova Scotia, Canada\n",
      "Plotting location number 283/ 300: Air Canada 626 Toronto to Halifax - Halifax Stanfield International Airport, Nova Scotia, Canada\n",
      "Plotting location number 284/ 300: Halifax Transit Route #001 (Spring Garden) - Halifax Transit Bridge Terminal, Nova Scotia, Canada\n",
      "Plotting location number 285/ 300: Halifax Transit Route #001 (Spring Garden) - Halifax Transit Bridge Terminal, Nova Scotia, Canada\n",
      "Plotting location number 286/ 300: Maritime Bus - Halifax Airport to Antigonish - nan, Nova Scotia, Canada\n",
      "Plotting location number 287/ 300: Halifax Transit Route #001 (Spring Garden) - Halifax Transit Bridge Terminal, Nova Scotia, Canada\n",
      "Plotting location number 288/ 300: Halifax Transit Route #001 (Spring Garden) - Halifax Transit Bridge Terminal, Nova Scotia, Canada\n"
     ]
    },
    {
     "name": "stdout",
     "output_type": "stream",
     "text": [
      "Plotting location number 289/ 300: Halifax Transit Route #182 (First Lake Express) - Halifax Transit Bridge Terminal, Nova Scotia, Canada\n",
      "Plotting location number 290/ 300: Air Canada 8106 Montreal to Halifax - Halifax Stanfield International Airport, Nova Scotia, Canada\n",
      "Plotting location number 291/ 300: Maritime Bus - nan, Nova Scotia, Canada\n",
      "Plotting location number 292/ 300: Maritime Bus - nan, Nova Scotia, Canada\n",
      "Plotting location number 293/ 300: WestJet 2901 Cancun to Halifax - Halifax Stanfield International Airport, Nova Scotia, Canada\n",
      "Plotting location number 294/ 300: Air Canada 1259 Orlando to Halifax - Halifax Stanfield International Airport, Nova Scotia, Canada\n",
      "Plotting location number 295/ 300: Air Canada 602 Toronto to Halifax - Halifax Stanfield International Airport, Nova Scotia, Canada\n",
      "Plotting location number 296/ 300: Air Canada 614 Toronto to Halifax - Halifax Stanfield International Airport, Nova Scotia, Canada\n",
      "Plotting location number 297/ 300: Halifax Transit Route #041 (Dartmouth-Dalhousie) - Halifax Transit Bridge Terminal, Nova Scotia, Canada\n",
      "Plotting location number 298/ 300: Halifax Transit Route #024 (Leiblin Park) - Halifax Transit Bridge Terminal, Nova Scotia, Canada\n",
      "Plotting location number 299/ 300: Halifax Transit Route #009A (Greystone) - Halifax Transit Bridge Terminal, Nova Scotia, Canada\n",
      "Plotting location number 300/ 300: Halifax Transit Route #025 (Governors Brook) - Halifax Transit Bridge Terminal, Nova Scotia, Canada\n"
     ]
    }
   ],
   "source": [
    "# Iterate through each geocoded result.\n",
    "for number in range(0,len(df5['Geolocation Address Coords'])):\n",
    "    \n",
    "    #Define parameters for the .draw() function.\n",
    "    # Exposure Location\n",
    "    location = df5['Geolocation Address Coords'][number][0][\"location\"]\n",
    "    # Pop Up Definition and Symbol \n",
    "    popup = {\"title\": pd.Series(df5[\"Geolocation Address\"])[number], \"content\": pd.Series(df5[\"Exposure area\"])[number]}\n",
    "    symbol = geotag_symbol_dict_radioactive\n",
    "    attributes = {\"test\": \"what\"}\n",
    "    \n",
    "    #Plot on the map!\n",
    "    print(\"Plotting location number \" + str(number) + \"/ \" +str(len(df5[\"Geolocation Address Coords\"])-1)+\": \" + pd.Series(df5[\"Geolocation Address\"])[number] )\n",
    "    Halifax_Covid_Exposures.draw(shape = location,symbol=symbol,popup=popup,attributes = \"test\")\n",
    "    \n",
    "\n"
   ]
  },
  {
   "cell_type": "markdown",
   "metadata": {},
   "source": [
    "# Healthcare Facilities in Canada: https://www.statcan.gc.ca/en/lode/databases/odhf\n",
    "\n",
    "We are also interested in studying the spatial extent of healthcare in Nova Scotia, and the spatial proximity of Covid-19 Exposures with respect to hospitals,care homes, and nursing homes."
   ]
  },
  {
   "cell_type": "code",
   "execution_count": 23,
   "metadata": {},
   "outputs": [],
   "source": [
    "covid_canada = Halifax_GIS_Map.content.search(\"title: Open Database of Healthcare Facilities - Canada\")\n",
    "covid_canada[0]\n",
    "covid_layer = Halifax_GIS_Map.content.get(covid_canada[0].id)\n",
    "Halifax_Covid_Exposures.add_layer(covid_layer,options={'opacity':1.2})"
   ]
  },
  {
   "cell_type": "markdown",
   "metadata": {},
   "source": [
    "# Exporting to ArcGIS Pro with ArcPy\n",
    "\n",
    "We make use of the functionality of ArcPy XYTableToPoint(): https://pro.arcgis.com/en/pro-app/2.8/tool-reference/data-management/xy-table-to-point.htm\n",
    "This will create a Point Layer with our generated file."
   ]
  },
  {
   "cell_type": "code",
   "execution_count": 24,
   "metadata": {},
   "outputs": [
    {
     "data": {
      "text/html": [
       "<div class='gpresult'><h2>Messages</h2><div id='messages' data-messages='[\"Start Time: December 18, 2021 22:53:35\",\"Succeeded at December 18, 2021 22:53:35 (Elapsed Time: 0.80 seconds)\"]' data-show='true'><div id = 'default' /></div></div>"
      ],
      "text/plain": [
       "<Result 'C:\\\\Users\\\\jreye\\\\OneDrive - Nova Scotia Community College\\\\ClassMaterial\\\\GISY5003SpatialDatabaseMgmt\\\\Labs\\\\Assignment3\\\\Submission\\\\ArcGISPRO_CovidMap\\\\Default.gdb\\\\HRMCovidLocations'>"
      ]
     },
     "execution_count": 24,
     "metadata": {},
     "output_type": "execute_result"
    }
   ],
   "source": [
    "arcpy.management.XYTableToPoint(r\"covidlocations.csv\",\"HRMCovidLocations\",\"longitude\",\"latitude\")"
   ]
  },
  {
   "cell_type": "markdown",
   "metadata": {},
   "source": [
    "# Finally we create a buffer polygon from using the ArcPy Buffer() function: https://pro.arcgis.com/en/pro-app/latest/tool-reference/analysis/buffer.htm"
   ]
  },
  {
   "cell_type": "code",
   "execution_count": 25,
   "metadata": {},
   "outputs": [
    {
     "data": {
      "text/html": [
       "<div class='gpresult'><h2>Messages</h2><div id='messages' data-messages='[\"Start Time: December 18, 2021 22:53:43\",\"Succeeded at December 18, 2021 22:53:43 (Elapsed Time: 0.39 seconds)\"]' data-show='true'><div id = 'default' /></div></div>"
      ],
      "text/plain": [
       "<Result 'C:\\\\Users\\\\jreye\\\\OneDrive - Nova Scotia Community College\\\\ClassMaterial\\\\GISY5003SpatialDatabaseMgmt\\\\Labs\\\\Assignment3\\\\Submission\\\\ArcGISPRO_CovidMap\\\\Default.gdb\\\\CovidBuffer0_5km'>"
      ]
     },
     "execution_count": 25,
     "metadata": {},
     "output_type": "execute_result"
    }
   ],
   "source": [
    "arcpy.analysis.Buffer(r\"HRMCovidLocations\", r\"CovidBuffer0_5km\", \"0.1 Kilometers\")"
   ]
  },
  {
   "cell_type": "markdown",
   "metadata": {},
   "source": [
    "#### More Information on the ODHF Dataset:"
   ]
  },
  {
   "cell_type": "code",
   "execution_count": 12,
   "metadata": {},
   "outputs": [
    {
     "data": {
      "text/html": [
       "<div class=\"item_container\" style=\"height: auto; overflow: hidden; border: 1px solid #cfcfcf; border-radius: 2px; background: #f6fafa; line-height: 1.21429em; padding: 10px;\">\n",
       "                    <div class=\"item_left\" style=\"width: 210px; float: left;\">\n",
       "                       <a href='https://www.arcgis.com/home/item.html?id=ef5ee1ec8a244c30bb1d37a2df4b3fb6' target='_blank'>\n",
       "                        <img src='https://www.arcgis.com/sharing/rest//content/items/ef5ee1ec8a244c30bb1d37a2df4b3fb6/info/thumbnail/thumbnail1588085321175.png' class=\"itemThumbnail\">\n",
       "                       </a>\n",
       "                    </div>\n",
       "\n",
       "                    <div class=\"item_right\"     style=\"float: none; width: auto; overflow: hidden;\">\n",
       "                        <a href='https://www.arcgis.com/home/item.html?id=ef5ee1ec8a244c30bb1d37a2df4b3fb6' target='_blank'><b>Open Database of Healthcare Facilities</b>\n",
       "                        </a>\n",
       "                        <br/>Open Database of Healthcare Facilities (ODHF)<img src='https://www.arcgis.com/home/js/jsapi/esri/css/images/item_type_icons/featureshosted16.png' style=\"vertical-align:middle;\">Feature Layer Collection by pheersink_exchange\n",
       "                        <br/>Last Modified: April 28, 2020\n",
       "                        <br/>0 comments, 244 views\n",
       "                    </div>\n",
       "                </div>\n",
       "                "
      ],
      "text/plain": [
       "<Item title:\"Open Database of Healthcare Facilities\" type:Feature Layer Collection owner:pheersink_exchange>"
      ]
     },
     "execution_count": 12,
     "metadata": {},
     "output_type": "execute_result"
    }
   ],
   "source": [
    "covid_canada = Halifax_GIS_Map.content.search(\"title: Open Database of Healthcare Facilities - Canada\")\n",
    "covid_canada[0]"
   ]
  },
  {
   "cell_type": "code",
   "execution_count": 19,
   "metadata": {},
   "outputs": [
    {
     "ename": "Exception",
     "evalue": "Unable to generate token.\nInvalid username or password.\n(Error Code: 400)",
     "output_type": "error",
     "traceback": [
      "\u001b[0;31m---------------------------------------------------------------------------\u001b[0m\n\u001b[0;31mException\u001b[0m                                 Traceback (most recent call last)",
      "In  \u001b[0;34m[19]\u001b[0m:\nLine \u001b[0;34m2\u001b[0m:     gis = GIS(\u001b[33m\"\u001b[39;49;00m\u001b[33mhttp://arcgis.com\u001b[39;49;00m\u001b[33m\"\u001b[39;49;00m, \u001b[33m\"\u001b[39;49;00m\u001b[33musername\u001b[39;49;00m\u001b[33m\"\u001b[39;49;00m, \u001b[33m\"\u001b[39;49;00m\u001b[33mpassword\u001b[39;49;00m\u001b[33m\"\u001b[39;49;00m)\n",
      "File \u001b[0;34mC:\\Users\\jreye\\AppData\\Local\\Programs\\ArcGIS\\Pro\\bin\\Python\\envs\\arcgispro-py3\\lib\\site-packages\\arcgis\\gis\\__init__.py\u001b[0m, in \u001b[0;32m__init__\u001b[0m:\nLine \u001b[0;34m483\u001b[0m:   \u001b[34mraise\u001b[39;49;00m e\n",
      "File \u001b[0;34mC:\\Users\\jreye\\AppData\\Local\\Programs\\ArcGIS\\Pro\\bin\\Python\\envs\\arcgispro-py3\\lib\\site-packages\\arcgis\\gis\\__init__.py\u001b[0m, in \u001b[0;32m__init__\u001b[0m:\nLine \u001b[0;34m444\u001b[0m:   proxy=kwargs.get(\u001b[33m\"\u001b[39;49;00m\u001b[33mproxy\u001b[39;49;00m\u001b[33m\"\u001b[39;49;00m, \u001b[34mNone\u001b[39;49;00m),\n",
      "File \u001b[0;34mC:\\Users\\jreye\\AppData\\Local\\Programs\\ArcGIS\\Pro\\bin\\Python\\envs\\arcgispro-py3\\lib\\site-packages\\arcgis\\gis\\_impl\\_portalpy.py\u001b[0m, in \u001b[0;32m__init__\u001b[0m:\nLine \u001b[0;34m205\u001b[0m:   \u001b[36mself\u001b[39;49;00m.get_properties(\u001b[34mTrue\u001b[39;49;00m)\n",
      "File \u001b[0;34mC:\\Users\\jreye\\AppData\\Local\\Programs\\ArcGIS\\Pro\\bin\\Python\\envs\\arcgispro-py3\\lib\\site-packages\\arcgis\\gis\\_impl\\_portalpy.py\u001b[0m, in \u001b[0;32mget_properties\u001b[0m:\nLine \u001b[0;34m1227\u001b[0m:  \u001b[34mraise\u001b[39;49;00m e\n",
      "File \u001b[0;34mC:\\Users\\jreye\\AppData\\Local\\Programs\\ArcGIS\\Pro\\bin\\Python\\envs\\arcgispro-py3\\lib\\site-packages\\arcgis\\gis\\_impl\\_portalpy.py\u001b[0m, in \u001b[0;32mget_properties\u001b[0m:\nLine \u001b[0;34m1207\u001b[0m:  resp = \u001b[36mself\u001b[39;49;00m.con.post(path, \u001b[36mself\u001b[39;49;00m._postdata(), ssl=\u001b[34mTrue\u001b[39;49;00m)\n",
      "File \u001b[0;34mC:\\Users\\jreye\\AppData\\Local\\Programs\\ArcGIS\\Pro\\bin\\Python\\envs\\arcgispro-py3\\lib\\site-packages\\arcgis\\gis\\_impl\\_con\\_connection.py\u001b[0m, in \u001b[0;32mpost\u001b[0m:\nLine \u001b[0;34m966\u001b[0m:   \u001b[34melif\u001b[39;49;00m token_as_header == \u001b[34mFalse\u001b[39;49;00m \u001b[35mand\u001b[39;49;00m \u001b[36mself\u001b[39;49;00m.token \u001b[35mis\u001b[39;49;00m \u001b[35mnot\u001b[39;49;00m \u001b[34mNone\u001b[39;49;00m:  \u001b[37m# as ?token=\u001b[39;49;00m\n",
      "File \u001b[0;34mC:\\Users\\jreye\\AppData\\Local\\Programs\\ArcGIS\\Pro\\bin\\Python\\envs\\arcgispro-py3\\lib\\site-packages\\arcgis\\gis\\_impl\\_con\\_connection.py\u001b[0m, in \u001b[0;32mtoken\u001b[0m:\nLine \u001b[0;34m1447\u001b[0m:  \u001b[36mself\u001b[39;49;00m._token = \u001b[36mself\u001b[39;49;00m._enterprise_token()\n",
      "File \u001b[0;34mC:\\Users\\jreye\\AppData\\Local\\Programs\\ArcGIS\\Pro\\bin\\Python\\envs\\arcgispro-py3\\lib\\site-packages\\arcgis\\gis\\_impl\\_con\\_connection.py\u001b[0m, in \u001b[0;32m_enterprise_token\u001b[0m:\nLine \u001b[0;34m1591\u001b[0m:  res = \u001b[36mself\u001b[39;49;00m.post(path=\u001b[36mself\u001b[39;49;00m._token_url, params=postdata, add_token=\u001b[34mFalse\u001b[39;49;00m)\n",
      "File \u001b[0;34mC:\\Users\\jreye\\AppData\\Local\\Programs\\ArcGIS\\Pro\\bin\\Python\\envs\\arcgispro-py3\\lib\\site-packages\\arcgis\\gis\\_impl\\_con\\_connection.py\u001b[0m, in \u001b[0;32mpost\u001b[0m:\nLine \u001b[0;34m1079\u001b[0m:  force_bytes=kwargs.pop(\u001b[33m\"\u001b[39;49;00m\u001b[33mforce_bytes\u001b[39;49;00m\u001b[33m\"\u001b[39;49;00m, \u001b[34mFalse\u001b[39;49;00m),\n",
      "File \u001b[0;34mC:\\Users\\jreye\\AppData\\Local\\Programs\\ArcGIS\\Pro\\bin\\Python\\envs\\arcgispro-py3\\lib\\site-packages\\arcgis\\gis\\_impl\\_con\\_connection.py\u001b[0m, in \u001b[0;32m_handle_response\u001b[0m:\nLine \u001b[0;34m625\u001b[0m:   \u001b[36mself\u001b[39;49;00m._handle_json_error(data[\u001b[33m\"\u001b[39;49;00m\u001b[33merror\u001b[39;49;00m\u001b[33m\"\u001b[39;49;00m], errorcode)\n",
      "File \u001b[0;34mC:\\Users\\jreye\\AppData\\Local\\Programs\\ArcGIS\\Pro\\bin\\Python\\envs\\arcgispro-py3\\lib\\site-packages\\arcgis\\gis\\_impl\\_con\\_connection.py\u001b[0m, in \u001b[0;32m_handle_json_error\u001b[0m:\nLine \u001b[0;34m648\u001b[0m:   \u001b[34mraise\u001b[39;49;00m \u001b[36mException\u001b[39;49;00m(errormessage)\n",
      "\u001b[0;31mException\u001b[0m: Unable to generate token.\nInvalid username or password.\n(Error Code: 400)\n\u001b[0;31m---------------------------------------------------------------------------\u001b[0m"
     ]
    }
   ],
   "source": [
    "from arcgis.gis import GIS\n",
    "gis = GIS(\"http://arcgis.com\", \"username\", \"password\")\n",
    "search_results = gis.content.search(\"title:Puget Sound Traffic Incidents\", item_type=\"Feature Service\")\n",
    "feature_layer_collection = search_results[0]\n",
    "feature_layer = feature_layer_collection.layers[0]\n",
    "for i in feature_layer.properties.fields:\n",
    "    print(i['name'])"
   ]
  },
  {
   "cell_type": "code",
   "execution_count": null,
   "metadata": {},
   "outputs": [],
   "source": []
  },
  {
   "cell_type": "code",
   "execution_count": 18,
   "metadata": {},
   "outputs": [
    {
     "name": "stdout",
     "output_type": "stream",
     "text": [
      "enter your password: \n"
     ]
    },
    {
     "ename": "Exception",
     "evalue": "Unable to generate token.\n'password' must be specified.\n(Error Code: 400)",
     "output_type": "error",
     "traceback": [
      "\u001b[0;31m---------------------------------------------------------------------------\u001b[0m\n\u001b[0;31mException\u001b[0m                                 Traceback (most recent call last)",
      "In  \u001b[0;34m[18]\u001b[0m:\nLine \u001b[0;34m3\u001b[0m:     gis = GIS(\u001b[33m\"\u001b[39;49;00m\u001b[33mhttp://arcgis.com\u001b[39;49;00m\u001b[33m\"\u001b[39;49;00m,username = \u001b[33m\"\u001b[39;49;00m\u001b[33mJuanCReyes1\u001b[39;49;00m\u001b[33m\"\u001b[39;49;00m, password=password) \n",
      "File \u001b[0;34mC:\\Users\\jreye\\AppData\\Local\\Programs\\ArcGIS\\Pro\\bin\\Python\\envs\\arcgispro-py3\\lib\\site-packages\\arcgis\\gis\\__init__.py\u001b[0m, in \u001b[0;32m__init__\u001b[0m:\nLine \u001b[0;34m483\u001b[0m:   \u001b[34mraise\u001b[39;49;00m e\n",
      "File \u001b[0;34mC:\\Users\\jreye\\AppData\\Local\\Programs\\ArcGIS\\Pro\\bin\\Python\\envs\\arcgispro-py3\\lib\\site-packages\\arcgis\\gis\\__init__.py\u001b[0m, in \u001b[0;32m__init__\u001b[0m:\nLine \u001b[0;34m444\u001b[0m:   proxy=kwargs.get(\u001b[33m\"\u001b[39;49;00m\u001b[33mproxy\u001b[39;49;00m\u001b[33m\"\u001b[39;49;00m, \u001b[34mNone\u001b[39;49;00m),\n",
      "File \u001b[0;34mC:\\Users\\jreye\\AppData\\Local\\Programs\\ArcGIS\\Pro\\bin\\Python\\envs\\arcgispro-py3\\lib\\site-packages\\arcgis\\gis\\_impl\\_portalpy.py\u001b[0m, in \u001b[0;32m__init__\u001b[0m:\nLine \u001b[0;34m205\u001b[0m:   \u001b[36mself\u001b[39;49;00m.get_properties(\u001b[34mTrue\u001b[39;49;00m)\n",
      "File \u001b[0;34mC:\\Users\\jreye\\AppData\\Local\\Programs\\ArcGIS\\Pro\\bin\\Python\\envs\\arcgispro-py3\\lib\\site-packages\\arcgis\\gis\\_impl\\_portalpy.py\u001b[0m, in \u001b[0;32mget_properties\u001b[0m:\nLine \u001b[0;34m1227\u001b[0m:  \u001b[34mraise\u001b[39;49;00m e\n",
      "File \u001b[0;34mC:\\Users\\jreye\\AppData\\Local\\Programs\\ArcGIS\\Pro\\bin\\Python\\envs\\arcgispro-py3\\lib\\site-packages\\arcgis\\gis\\_impl\\_portalpy.py\u001b[0m, in \u001b[0;32mget_properties\u001b[0m:\nLine \u001b[0;34m1207\u001b[0m:  resp = \u001b[36mself\u001b[39;49;00m.con.post(path, \u001b[36mself\u001b[39;49;00m._postdata(), ssl=\u001b[34mTrue\u001b[39;49;00m)\n",
      "File \u001b[0;34mC:\\Users\\jreye\\AppData\\Local\\Programs\\ArcGIS\\Pro\\bin\\Python\\envs\\arcgispro-py3\\lib\\site-packages\\arcgis\\gis\\_impl\\_con\\_connection.py\u001b[0m, in \u001b[0;32mpost\u001b[0m:\nLine \u001b[0;34m966\u001b[0m:   \u001b[34melif\u001b[39;49;00m token_as_header == \u001b[34mFalse\u001b[39;49;00m \u001b[35mand\u001b[39;49;00m \u001b[36mself\u001b[39;49;00m.token \u001b[35mis\u001b[39;49;00m \u001b[35mnot\u001b[39;49;00m \u001b[34mNone\u001b[39;49;00m:  \u001b[37m# as ?token=\u001b[39;49;00m\n",
      "File \u001b[0;34mC:\\Users\\jreye\\AppData\\Local\\Programs\\ArcGIS\\Pro\\bin\\Python\\envs\\arcgispro-py3\\lib\\site-packages\\arcgis\\gis\\_impl\\_con\\_connection.py\u001b[0m, in \u001b[0;32mtoken\u001b[0m:\nLine \u001b[0;34m1447\u001b[0m:  \u001b[36mself\u001b[39;49;00m._token = \u001b[36mself\u001b[39;49;00m._enterprise_token()\n",
      "File \u001b[0;34mC:\\Users\\jreye\\AppData\\Local\\Programs\\ArcGIS\\Pro\\bin\\Python\\envs\\arcgispro-py3\\lib\\site-packages\\arcgis\\gis\\_impl\\_con\\_connection.py\u001b[0m, in \u001b[0;32m_enterprise_token\u001b[0m:\nLine \u001b[0;34m1591\u001b[0m:  res = \u001b[36mself\u001b[39;49;00m.post(path=\u001b[36mself\u001b[39;49;00m._token_url, params=postdata, add_token=\u001b[34mFalse\u001b[39;49;00m)\n",
      "File \u001b[0;34mC:\\Users\\jreye\\AppData\\Local\\Programs\\ArcGIS\\Pro\\bin\\Python\\envs\\arcgispro-py3\\lib\\site-packages\\arcgis\\gis\\_impl\\_con\\_connection.py\u001b[0m, in \u001b[0;32mpost\u001b[0m:\nLine \u001b[0;34m1079\u001b[0m:  force_bytes=kwargs.pop(\u001b[33m\"\u001b[39;49;00m\u001b[33mforce_bytes\u001b[39;49;00m\u001b[33m\"\u001b[39;49;00m, \u001b[34mFalse\u001b[39;49;00m),\n",
      "File \u001b[0;34mC:\\Users\\jreye\\AppData\\Local\\Programs\\ArcGIS\\Pro\\bin\\Python\\envs\\arcgispro-py3\\lib\\site-packages\\arcgis\\gis\\_impl\\_con\\_connection.py\u001b[0m, in \u001b[0;32m_handle_response\u001b[0m:\nLine \u001b[0;34m625\u001b[0m:   \u001b[36mself\u001b[39;49;00m._handle_json_error(data[\u001b[33m\"\u001b[39;49;00m\u001b[33merror\u001b[39;49;00m\u001b[33m\"\u001b[39;49;00m], errorcode)\n",
      "File \u001b[0;34mC:\\Users\\jreye\\AppData\\Local\\Programs\\ArcGIS\\Pro\\bin\\Python\\envs\\arcgispro-py3\\lib\\site-packages\\arcgis\\gis\\_impl\\_con\\_connection.py\u001b[0m, in \u001b[0;32m_handle_json_error\u001b[0m:\nLine \u001b[0;34m648\u001b[0m:   \u001b[34mraise\u001b[39;49;00m \u001b[36mException\u001b[39;49;00m(errormessage)\n",
      "\u001b[0;31mException\u001b[0m: Unable to generate token.\n'password' must be specified.\n(Error Code: 400)\n\u001b[0;31m---------------------------------------------------------------------------\u001b[0m"
     ]
    }
   ],
   "source": [
    "from arcgis.gis import GIS\n",
    "password = input(\"enter your password: \")\n",
    "gis = GIS(\"http://arcgis.com\",username = \"JuanCReyes1\", password=password) "
   ]
  },
  {
   "cell_type": "code",
   "execution_count": 14,
   "metadata": {},
   "outputs": [],
   "source": [
    "search_results = gis.content.search(\"title:Puget Sound Traffic Incidents\", item_type=\"Feature Service\")\n",
    "feature_layer_collection = search_results[0]"
   ]
  },
  {
   "cell_type": "code",
   "execution_count": 15,
   "metadata": {},
   "outputs": [
    {
     "data": {
      "text/html": [
       "<div class=\"item_container\" style=\"height: auto; overflow: hidden; border: 1px solid #cfcfcf; border-radius: 2px; background: #f6fafa; line-height: 1.21429em; padding: 10px;\">\n",
       "                    <div class=\"item_left\" style=\"width: 210px; float: left;\">\n",
       "                       <a href='http://arcgis.com/home/item.html?id=320838aca5aa4d53918f3c92d3549975' target='_blank'>\n",
       "                        <img src='data:image/png;base64,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' width='200' height='133' class=\"itemThumbnail\">\n",
       "                       </a>\n",
       "                    </div>\n",
       "\n",
       "                    <div class=\"item_right\"     style=\"float: none; width: auto; overflow: hidden;\">\n",
       "                        <a href='http://arcgis.com/home/item.html?id=320838aca5aa4d53918f3c92d3549975' target='_blank'><b>Puget Sound Traffic Incidents</b>\n",
       "                        </a>\n",
       "                        <br/>Stanford Open Policing Project, a nationwide analysis of traffic stops and searches.<img src='http://arcgis.com/home/js/jsapi/esri/css/images/item_type_icons/featureshosted16.png' style=\"vertical-align:middle;\">Feature Layer Collection by EsriTrainingSvc\n",
       "                        <br/>Last Modified: October 09, 2019\n",
       "                        <br/>0 comments, 416 views\n",
       "                    </div>\n",
       "                </div>\n",
       "                "
      ],
      "text/plain": [
       "<Item title:\"Puget Sound Traffic Incidents\" type:Feature Layer Collection owner:EsriTrainingSvc>"
      ]
     },
     "execution_count": 15,
     "metadata": {},
     "output_type": "execute_result"
    }
   ],
   "source": [
    "feature_layer_collection"
   ]
  },
  {
   "cell_type": "code",
   "execution_count": 16,
   "metadata": {},
   "outputs": [
    {
     "name": "stdout",
     "output_type": "stream",
     "text": [
      "OBJECTID\n",
      "id\n",
      "state\n",
      "stop_date\n",
      "stop_time\n",
      "location_r\n",
      "county_nam\n",
      "county_fip\n",
      "fine_grain\n",
      "police_dep\n",
      "driver_age\n",
      "driver_a_1\n",
      "violation_\n",
      "violation\n",
      "search_con\n",
      "search_typ\n",
      "search_t_1\n",
      "contraband\n",
      "stop_outco\n",
      "is_arreste\n",
      "violations\n",
      "officer_id\n",
      "highway_ty\n",
      "road_numbe\n",
      "milepost\n",
      "lat\n",
      "lon\n",
      "contact_ty\n",
      "enforcemen\n",
      "drugs_rela\n"
     ]
    }
   ],
   "source": [
    "feature_layer = feature_layer_collection.layers[0]\n",
    "for i in feature_layer.properties.fields:\n",
    "    print(i['name'])"
   ]
  },
  {
   "cell_type": "code",
   "execution_count": null,
   "metadata": {},
   "outputs": [],
   "source": []
  }
 ],
 "metadata": {
  "kernelspec": {
   "display_name": "ArcGISPro",
   "language": "Python",
   "name": "python3"
  },
  "language_info": {
   "file_extension": ".py",
   "name": "python",
   "version": "3"
  }
 },
 "nbformat": 4,
 "nbformat_minor": 2
}
